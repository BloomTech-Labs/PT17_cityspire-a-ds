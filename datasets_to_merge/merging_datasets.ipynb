{
 "cells": [
  {
   "cell_type": "code",
   "execution_count": 1,
   "metadata": {},
   "outputs": [],
   "source": [
    "import numpy as np\n",
    "import pandas as pd\n",
    "import os\n",
    "\n",
    "path = os.getcwd()"
   ]
  },
  {
   "cell_type": "code",
   "execution_count": 2,
   "metadata": {},
   "outputs": [],
   "source": [
    "df_census = pd.read_csv(os.path.join(path, 'csv/census_by_city.csv'))     # (25235, 35)\n",
    "df_crime = pd.read_csv(os.path.join(path, 'csv/fbi_crime_uscities.csv'))  # (8103, 16)\n",
    "df_rent = pd.read_csv(os.path.join(path, 'csv/rent_cleaned.csv'))         # (2831, 4)\n",
    "df_poll = pd.read_csv(os.path.join(path, 'csv/pollution_summary.csv'))    # (845, 20)\n",
    "df_lat_lon = pd.read_excel(os.path.join(path, 'csv/uscities.xlsx'))       # (28338, 17)"
   ]
  },
  {
   "cell_type": "code",
   "execution_count": 3,
   "metadata": {},
   "outputs": [],
   "source": [
    "# replace 'State_Id' in df_census so it matches the other columns\n",
    "df_census.rename(columns = {'State_Id':'State'}, inplace = True)\n",
    "df_lat_lon.rename(columns = {'state_id':'State','city': 'City'}, inplace = True)\n",
    "df_lat_lon = df_lat_lon[['City', 'State', 'lat', 'lng']]"
   ]
  },
  {
   "cell_type": "code",
   "execution_count": 4,
   "metadata": {},
   "outputs": [
    {
     "output_type": "stream",
     "name": "stdout",
     "text": [
      "Anchor Point\nAK\nAnchorage\nAK\nAleutians East\nAK\nAnchorage\nAK\nAdak\nAK\n"
     ]
    }
   ],
   "source": [
    "# put all the dfs in a list\n",
    "df_lst = [df_census, df_crime, df_rent, df_poll, df_lat_lon]\n",
    "\n",
    "# remove whitespace in all the dfs\n",
    "for x in df_lst:\n",
    "    x['City'] = x['City'].str.strip()\n",
    "    x['State'] = x['State'].str.strip()\n",
    "\n",
    "# make sure it worked    \n",
    "for x in df_lst:\n",
    "    print(x['City'][0])\n",
    "    print(x['State'][0])"
   ]
  },
  {
   "cell_type": "code",
   "execution_count": 5,
   "metadata": {
    "scrolled": false
   },
   "outputs": [
    {
     "output_type": "stream",
     "name": "stdout",
     "text": [
      "(6866, 49)\n(768, 51)\n(431, 69)\n(425, 71)\n"
     ]
    }
   ],
   "source": [
    "# merging the data and following its shape sequentially\n",
    "df_net = pd.merge(df_census, df_crime, on=['City', 'State'])\n",
    "print(df_net.shape)\n",
    "df_net2 = pd.merge(df_net, df_rent, on=['City', 'State'])\n",
    "print(df_net2.shape)\n",
    "df_net3 = pd.merge(df_net2, df_poll, on=['City', 'State'])\n",
    "print(df_net3.shape)\n",
    "df_net4 = pd.merge(df_net3, df_lat_lon, on=['City', 'State'])\n",
    "print(df_net4.shape)"
   ]
  },
  {
   "cell_type": "code",
   "execution_count": 6,
   "metadata": {},
   "outputs": [],
   "source": [
    "df_net4 = df_net4.drop_duplicates()"
   ]
  },
  {
   "cell_type": "code",
   "execution_count": 7,
   "metadata": {},
   "outputs": [],
   "source": [
    "# extract the merged df as a .csv\n",
    "df_net4.to_csv('four_merged.csv', index = True) "
   ]
  }
 ],
 "metadata": {
  "kernelspec": {
   "display_name": "Python 3",
   "language": "python",
   "name": "python3"
  },
  "language_info": {
   "codemirror_mode": {
    "name": "ipython",
    "version": 3
   },
   "file_extension": ".py",
   "mimetype": "text/x-python",
   "name": "python",
   "nbconvert_exporter": "python",
   "pygments_lexer": "ipython3",
   "version": "3.8.6-final"
  }
 },
 "nbformat": 4,
 "nbformat_minor": 4
}