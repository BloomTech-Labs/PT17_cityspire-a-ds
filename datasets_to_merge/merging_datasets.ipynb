{
 "cells": [
  {
   "source": [
    "## MERGE"
   ],
   "cell_type": "markdown",
   "metadata": {}
  },
  {
   "cell_type": "code",
   "execution_count": 1,
   "metadata": {},
   "outputs": [],
   "source": [
    "import numpy as np\n",
    "import pandas as pd\n",
    "import os\n",
    "\n",
    "path = os.getcwd()"
   ]
  },
  {
   "cell_type": "code",
   "execution_count": 2,
   "metadata": {},
   "outputs": [],
   "source": [
    "df_census = pd.read_csv(os.path.join(path, 'csv/census_by_city.csv'))     # (25235, 35)\n",
    "df_crime = pd.read_csv(os.path.join(path, 'csv/fbi_crime_uscities.csv'))  # (8103, 16)\n",
    "df_rent = pd.read_csv(os.path.join(path, 'csv/rent_cleaned.csv'))         # (2831, 4)\n",
    "df_poll = pd.read_csv(os.path.join(path, 'csv/pollution_summary.csv'))    # (845, 20)\n",
    "df_lat_lon = pd.read_excel(os.path.join(path, 'csv/uscities.xlsx'))       # (28338, 17)"
   ]
  },
  {
   "cell_type": "code",
   "execution_count": 3,
   "metadata": {},
   "outputs": [],
   "source": [
    "# replace 'State_Id' in df_census so it matches the other columns\n",
    "df_census.rename(columns = {'State_Id':'State'}, inplace = True)\n",
    "df_lat_lon.rename(columns = {'state_id':'State','city': 'City'}, inplace = True)\n",
    "df_lat_lon = df_lat_lon[['City', 'State', 'lat', 'lng']]"
   ]
  },
  {
   "cell_type": "code",
   "execution_count": 4,
   "metadata": {},
   "outputs": [
    {
     "output_type": "stream",
     "name": "stdout",
     "text": [
      "Anchor Point\nAK\nAnchorage\nAK\nAleutians East\nAK\nAnchorage\nAK\nAdak\nAK\n"
     ]
    }
   ],
   "source": [
    "# put all the dfs in a list\n",
    "df_lst = [df_census, df_crime, df_rent, df_poll, df_lat_lon]\n",
    "\n",
    "# remove whitespace in all the dfs\n",
    "for x in df_lst:\n",
    "    x['City'] = x['City'].str.strip()\n",
    "    x['State'] = x['State'].str.strip()\n",
    "\n",
    "# make sure it worked    \n",
    "for x in df_lst:\n",
    "    print(x['City'][0])\n",
    "    print(x['State'][0])"
   ]
  },
  {
   "cell_type": "code",
   "execution_count": 5,
   "metadata": {
    "scrolled": false
   },
   "outputs": [
    {
     "output_type": "stream",
     "name": "stdout",
     "text": [
      "(6866, 49)\n(768, 51)\n(431, 69)\n(425, 71)\n"
     ]
    }
   ],
   "source": [
    "# merging the data and following its shape sequentially\n",
    "df_net = pd.merge(df_census, df_crime, on=['City', 'State'])\n",
    "print(df_net.shape)\n",
    "df_net2 = pd.merge(df_net, df_rent, on=['City', 'State'])\n",
    "print(df_net2.shape)\n",
    "df_net3 = pd.merge(df_net2, df_poll, on=['City', 'State'])\n",
    "print(df_net3.shape)\n",
    "df_net4 = pd.merge(df_net3, df_lat_lon, on=['City', 'State'])\n",
    "print(df_net4.shape)"
   ]
  },
  {
   "cell_type": "code",
   "execution_count": 6,
   "metadata": {},
   "outputs": [],
   "source": [
    "df_net4 = df_net4.drop_duplicates()"
   ]
  },
  {
   "source": [
    "## CLEANUP"
   ],
   "cell_type": "markdown",
   "metadata": {}
  },
  {
   "source": [
    "### Update Crime Ratings \n",
    "- comparison is across fewer cities. \n",
    "- run pd.qcut again"
   ],
   "cell_type": "markdown",
   "metadata": {}
  },
  {
   "cell_type": "code",
   "execution_count": 7,
   "metadata": {},
   "outputs": [
    {
     "output_type": "execute_result",
     "data": {
      "text/plain": [
       "High      330\n",
       "Medium     84\n",
       "Low         8\n",
       "Name: Crime Rating, dtype: int64"
      ]
     },
     "metadata": {},
     "execution_count": 7
    }
   ],
   "source": [
    "df_net4['Crime Rating'].value_counts()"
   ]
  },
  {
   "source": [
    "crime rating skews very high because after the merging there were only a little over 400 cities versus the 8000 cities reported in the FBI crime data. "
   ],
   "cell_type": "markdown",
   "metadata": {}
  },
  {
   "cell_type": "code",
   "execution_count": 8,
   "metadata": {},
   "outputs": [],
   "source": [
    "# dropping old crime rating column\n",
    "df_net4 = df_net4.drop(columns = ['Crime Rating'])"
   ]
  },
  {
   "cell_type": "code",
   "execution_count": 9,
   "metadata": {},
   "outputs": [],
   "source": [
    "# Create a new crime rating by using qcut() on the number of merged cities we have\n",
    "df_net4['Crime Rating'] = pd.qcut(df_net4['Crime Rate (per 1000 residents)'], q=3, labels=['Low', 'Medium', 'High'])"
   ]
  },
  {
   "cell_type": "code",
   "execution_count": 10,
   "metadata": {},
   "outputs": [
    {
     "output_type": "execute_result",
     "data": {
      "text/plain": [
       "High      141\n",
       "Low       141\n",
       "Medium    140\n",
       "Name: Crime Rating, dtype: int64"
      ]
     },
     "metadata": {},
     "execution_count": 10
    }
   ],
   "source": [
    "df_net4['Crime Rating'].value_counts()"
   ]
  },
  {
   "source": [
    "### Clean Columns"
   ],
   "cell_type": "markdown",
   "metadata": {}
  },
  {
   "cell_type": "code",
   "execution_count": 11,
   "metadata": {},
   "outputs": [],
   "source": [
    "col = [\"Poverty\", \"ChildPoverty\", \"Unemployment\", \"Professional\", \"Office\", \"Service\", \"Construction\", \"Production\"]\n",
    "df_net4[col] = df_net4[col].round(2)"
   ]
  },
  {
   "source": [
    "### Add an Index Column"
   ],
   "cell_type": "markdown",
   "metadata": {}
  },
  {
   "cell_type": "code",
   "execution_count": 12,
   "metadata": {},
   "outputs": [],
   "source": [
    "df_net4['Index'] = df_net4.index"
   ]
  },
  {
   "source": [
    "### Reorder Columns"
   ],
   "cell_type": "markdown",
   "metadata": {}
  },
  {
   "cell_type": "code",
   "execution_count": 13,
   "metadata": {},
   "outputs": [
    {
     "output_type": "execute_result",
     "data": {
      "text/plain": [
       "Index(['City', 'State', 'TotalPop', 'Men', 'Women', 'Hispanic', 'White',\n",
       "       'Black', 'Native', 'Asian', 'Pacific', 'Income', 'IncomeErr',\n",
       "       'IncomePerCap', 'IncomePerCapErr', 'Poverty', 'ChildPoverty',\n",
       "       'Employed', 'Unemployment', 'PrivateWork', 'PublicWork', 'SelfEmployed',\n",
       "       'FamilyWork', 'Professional', 'Service', 'Office', 'Construction',\n",
       "       'Production', 'Drive', 'Carpool', 'Transit', 'Walk', 'OtherTransp',\n",
       "       'WorkAtHome', 'MeanCommute', 'Unnamed: 0_x', 'Population',\n",
       "       'Violent crime', 'Murder and nonnegligent manslaughter', 'Rape',\n",
       "       'Robbery', 'Aggravated assault', 'Property crime', 'Burglary',\n",
       "       'Larceny- theft', 'Motor vehicle theft', 'Arson',\n",
       "       'Crime Rate (per 1000 residents)', 'Unnamed: 0_y', 'Rent', 'Year',\n",
       "       'Days with AQI', 'Good Days', 'Moderate Days',\n",
       "       'Unhealthy for Sensitive Groups Days', 'Unhealthy Days',\n",
       "       'Very Unhealthy Days', 'Hazardous Days', 'Max AQI',\n",
       "       '90th Percentile AQI', 'Median AQI', 'Days CO', 'Days NO2',\n",
       "       'Days Ozone', 'Days SO2', 'Days PM2.5', 'Days PM10', 'Level of Concern',\n",
       "       'lat', 'lng', 'Crime Rating', 'Index'],\n",
       "      dtype='object')"
      ]
     },
     "metadata": {},
     "execution_count": 13
    }
   ],
   "source": [
    "df_net4.columns"
   ]
  },
  {
   "cell_type": "code",
   "execution_count": 14,
   "metadata": {},
   "outputs": [],
   "source": [
    "df_net4 = df_net4[[ \n",
    "    'Index',\n",
    "    'City', 'State', \n",
    "    'lat', 'lng',\n",
    "    'TotalPop', 'Men', 'Women', 'Hispanic', 'White',\n",
    "    'Black', 'Native', 'Asian', 'Pacific', 'Income', 'IncomeErr','IncomePerCap', \n",
    "    'IncomePerCapErr', 'Poverty', 'ChildPoverty', 'Employed', 'Unemployment', \n",
    "    'PrivateWork', 'PublicWork', 'SelfEmployed', 'FamilyWork', 'Professional', \n",
    "    'Service', 'Office', 'Construction', 'Production', 'Drive', 'Carpool', \n",
    "    'Transit', 'Walk', 'OtherTransp', 'WorkAtHome', 'MeanCommute', \n",
    "    'Rent', 'Year',\n",
    "    'Population','Violent crime', 'Murder and nonnegligent manslaughter', 'Rape',\n",
    "    'Robbery', 'Aggravated assault', 'Property crime', 'Burglary','Larceny- theft', \n",
    "    'Motor vehicle theft', 'Arson', 'Crime Rate (per 1000 residents)', 'Crime Rating',\n",
    "    'Days with AQI', 'Good Days', 'Moderate Days', 'Unhealthy for Sensitive Groups Days', \n",
    "    'Unhealthy Days', 'Very Unhealthy Days', 'Hazardous Days', 'Max AQI', \n",
    "    '90th Percentile AQI', 'Median AQI', 'Days CO', 'Days NO2', 'Days Ozone', 'Days SO2', \n",
    "    'Days PM2.5', 'Days PM10', 'Level of Concern',\n",
    "    ]]"
   ]
  },
  {
   "cell_type": "code",
   "execution_count": 15,
   "metadata": {},
   "outputs": [],
   "source": [
    "df_net4.rename(columns = {'Level of Concern':'Air Quality Index'}, inplace = True)\n"
   ]
  },
  {
   "cell_type": "code",
   "execution_count": 16,
   "metadata": {},
   "outputs": [],
   "source": [
    "pd.set_option('display.max_columns', None)"
   ]
  },
  {
   "cell_type": "code",
   "execution_count": 17,
   "metadata": {},
   "outputs": [
    {
     "output_type": "error",
     "ename": "AttributeError",
     "evalue": "'NoneType' object has no attribute 'head'",
     "traceback": [
      "\u001b[0;31m---------------------------------------------------------------------------\u001b[0m",
      "\u001b[0;31mAttributeError\u001b[0m                            Traceback (most recent call last)",
      "\u001b[0;32m<ipython-input-17-cc76d351b99c>\u001b[0m in \u001b[0;36m<module>\u001b[0;34m\u001b[0m\n\u001b[0;32m----> 1\u001b[0;31m \u001b[0mdf_net4\u001b[0m\u001b[0;34m.\u001b[0m\u001b[0mhead\u001b[0m\u001b[0;34m(\u001b[0m\u001b[0;34m)\u001b[0m\u001b[0;34m\u001b[0m\u001b[0;34m\u001b[0m\u001b[0m\n\u001b[0m",
      "\u001b[0;31mAttributeError\u001b[0m: 'NoneType' object has no attribute 'head'"
     ]
    }
   ],
   "source": [
    "df_net4.head()"
   ]
  },
  {
   "cell_type": "code",
   "execution_count": null,
   "metadata": {},
   "outputs": [],
   "source": [
    "# extract the merged df as a .csv\n",
    "df_net4.to_csv('merged.csv', index = False) "
   ]
  }
 ],
 "metadata": {
  "kernelspec": {
   "display_name": "Python 3",
   "language": "python",
   "name": "python3"
  },
  "language_info": {
   "codemirror_mode": {
    "name": "ipython",
    "version": 3
   },
   "file_extension": ".py",
   "mimetype": "text/x-python",
   "name": "python",
   "nbconvert_exporter": "python",
   "pygments_lexer": "ipython3",
   "version": "3.8.6-final"
  }
 },
 "nbformat": 4,
 "nbformat_minor": 4
}