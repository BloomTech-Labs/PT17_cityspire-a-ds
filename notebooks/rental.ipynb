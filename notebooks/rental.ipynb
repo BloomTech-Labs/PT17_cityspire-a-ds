{
 "cells": [
  {
   "cell_type": "code",
   "execution_count": null,
   "id": "incorrect-cheat",
   "metadata": {},
   "outputs": [],
   "source": [
    "import pandas as pd\n",
    "from pathlib import Path\n",
    "import numpy as np\n",
    "\n",
    "def process_df() -> pd.DataFrame:\n",
    "    path = Path(\"data/Metro_ZORI_AllHomesPlusMultifamily_Smoothed.csv\")\n",
    "    df = pd.read_csv(path)\n",
    "    \n",
    "    # Drop United States, extra columns\n",
    "    df = df.drop(0)\n",
    "    df = df.drop([\"RegionID\", \"SizeRank\"], axis =1)\n",
    "    \n",
    "    # Melt data and parse dates.\n",
    "    df = df.melt([\"RegionName\"], var_name=\"Date\", value_name = \"RentIndex\")\n",
    "    df['Date'] = pd.to_datetime(df['Date'], infer_datetime_format=True)\n",
    "    \n",
    "    # Add interpolate missing data\n",
    "    cities = df[\"RegionName\"].unique()\n",
    "    interpol = []\n",
    "    num = 0\n",
    "\n",
    "    for c in cities:\n",
    "\n",
    "        mask = df['RegionName'] == c\n",
    "        chunk = (df[mask]\n",
    "                 .drop('RegionName', 1)\n",
    "                 .set_index('Date')\n",
    "                 .resample(rule=\"M\")\n",
    "                 .mean()\n",
    "                 .interpolate()\n",
    "                 .reset_index()\n",
    "                 .reset_index()\n",
    "                 .rename({\"index\":\"TimeIndex\"}, axis=1))\n",
    "        chunk['RegionName'] = c\n",
    "        num+=1\n",
    "        interpol.append(chunk)\n",
    "\n",
    "    df = pd.concat(interpol, ignore_index=True)\n",
    "\n",
    "    # Region Name to Categorical\n",
    "    #     df['RegionName'] = df['RegionName'].astype(\"category\")\n",
    "    \n",
    "    # Extract month and year\n",
    "    \n",
    "    day = 24*60*60\n",
    "    year = (365.2425)*day\n",
    "\n",
    "    df['MonthSin'] = np.sin(df['Date'].dt.month * (2 * np.pi / 12))\n",
    "    df['MonthCos'] = np.cos(df['Date'].dt.month * (2 * np.pi / 12))\n",
    "#     df['Month'] = df['Date'].dt.month\n",
    "    df['Year'] = df['Date'].dt.year\n",
    "    df['target'] = df['RentIndex'].shift(-3)\n",
    "    df = df.drop('Date', 1)\n",
    "    df=df.dropna()\n",
    "\n",
    "    return(df)"
   ]
  },
  {
   "cell_type": "code",
   "execution_count": null,
   "id": "suspected-agent",
   "metadata": {},
   "outputs": [],
   "source": [
    "df = process_df()\n",
    "df"
   ]
  },
  {
   "cell_type": "code",
   "execution_count": null,
   "id": "macro-daughter",
   "metadata": {},
   "outputs": [],
   "source": [
    "from category_encoders import OrdinalEncoder\n",
    "from sklearn.preprocessing import StandardScaler"
   ]
  },
  {
   "cell_type": "code",
   "execution_count": null,
   "id": "retired-literature",
   "metadata": {},
   "outputs": [],
   "source": [
    "scaler = StandardScaler()\n",
    "df['RentIndex']= scaler.fit_transform(df[['RentIndex']])"
   ]
  },
  {
   "cell_type": "code",
   "execution_count": null,
   "id": "consistent-response",
   "metadata": {},
   "outputs": [],
   "source": [
    "encoder = OrdinalEncoder()\n",
    "df['RegionName'] = encoder.fit_transform(df['RegionName'])"
   ]
  },
  {
   "cell_type": "code",
   "execution_count": null,
   "id": "willing-budget",
   "metadata": {},
   "outputs": [],
   "source": [
    "df"
   ]
  },
  {
   "cell_type": "code",
   "execution_count": null,
   "id": "informal-briefs",
   "metadata": {},
   "outputs": [],
   "source": [
    "import tensorflow as tf\n",
    "from tensorflow import keras"
   ]
  },
  {
   "cell_type": "code",
   "execution_count": null,
   "id": "excellent-coral",
   "metadata": {},
   "outputs": [],
   "source": [
    "from tensorflow.keras import Sequential\n",
    "from tensorflow.keras.layers import Dense, Flatten, GRU, Conv1D"
   ]
  },
  {
   "cell_type": "code",
   "execution_count": null,
   "id": "peripheral-salvation",
   "metadata": {},
   "outputs": [],
   "source": [
    "target = df.pop('target')"
   ]
  },
  {
   "cell_type": "code",
   "execution_count": null,
   "id": "immediate-margin",
   "metadata": {},
   "outputs": [],
   "source": [
    "target"
   ]
  },
  {
   "cell_type": "code",
   "execution_count": null,
   "id": "imperial-family",
   "metadata": {},
   "outputs": [],
   "source": [
    "df.dtypes"
   ]
  },
  {
   "cell_type": "code",
   "execution_count": null,
   "id": "close-entrance",
   "metadata": {},
   "outputs": [],
   "source": [
    "dataset = tf.data.Dataset.from_tensor_slices((tf.expand_dims(df.to_numpy(), -1), target.to_numpy()))\n",
    "# dataset = tf.data.Dataset.from_tensor_slices((df.to_numpy(), target.to_numpy()))"
   ]
  },
  {
   "cell_type": "code",
   "execution_count": null,
   "id": "talented-vintage",
   "metadata": {},
   "outputs": [],
   "source": [
    "def get_compiled_model():\n",
    "  model = tf.keras.Sequential([\n",
    "#       Dense(100, activation='relu'),\n",
    "      \n",
    "#       Dense(1000, activation='relu'),\n",
    "#       Dense(1000, activation='relu'),\n",
    "#     tf.keras.layers.GRU(4, return_sequences=True),\n",
    "      tf.keras.layers.GRU(100, return_sequences=True),\n",
    "      tf.keras.layers.GRU(100, return_sequences=True),\n",
    "#       tf.keras.layers.GRU(100,),\n",
    "#       tf.keras.layers.GRU(1000, return_sequences=True, batch_size=15),\n",
    "#       tf.keras.layers.GRU(4, return_sequences=True, batch_size=15),\n",
    "    tf.keras.layers.TimeDistributed(tf.keras.layers.Dense(1)),\n",
    "      \n",
    "  ])\n",
    "\n",
    "  model.compile(loss=tf.losses.MeanAbsolutePercentageError(),\n",
    "                optimizer=tf.optimizers.Adam(),\n",
    "                metrics=[tf.metrics.MeanAbsolutePercentageError()])\n",
    "\n",
    "            \n",
    "  return model"
   ]
  },
  {
   "cell_type": "code",
   "execution_count": null,
   "id": "similar-experiment",
   "metadata": {},
   "outputs": [],
   "source": [
    "from tqdm.keras import TqdmCallback"
   ]
  },
  {
   "cell_type": "code",
   "execution_count": null,
   "id": "sunset-explorer",
   "metadata": {},
   "outputs": [],
   "source": [
    "# class ResidualWrapper(tf.keras.Model):\n",
    "#   def __init__(self, model):\n",
    "#     super().__init__()\n",
    "#     self.model = model\n",
    "\n",
    "#   def call(self, inputs, *args, **kwargs):\n",
    "#     delta = self.model(inputs, *args, **kwargs)\n",
    "\n",
    "#     # The prediction for each timestep is the input\n",
    "#     # from the previous time step plus the delta\n",
    "#     # calculated by the model.\n",
    "#     return inputs + delta\n",
    "\n",
    "# residual_lstm = ResidualWrapper(\n",
    "#     tf.keras.Sequential([\n",
    "#     tf.keras.layers.LSTM(32, return_sequences=True),\n",
    "#     tf.keras.layers.LSTM(32, return_sequences=True),\n",
    "#     tf.keras.layers.Dense(\n",
    "#         1,\n",
    "#         # The predicted deltas should start small\n",
    "#         # So initialize the output layer with zeros\n",
    "#         kernel_initializer=tf.initializers.zeros)\n",
    "# ]))\n",
    "\n",
    "# residual_lstm.compile(loss=tf.losses.MeanAbsolutePercentageError(),\n",
    "#                 optimizer=tf.optimizers.Adam(),\n",
    "#                 metrics=[tf.metrics.MeanAbsolutePercentageError()])\n",
    "# residual_lstm.fit(dataset.batch(84), epochs=2500,\n",
    "#          callbacks=[tf.keras.callbacks.EarlyStopping(\n",
    "#     monitor='loss', min_delta=0, patience=25, verbose=0,\n",
    "#     mode='auto', baseline=None, restore_best_weights=True),\n",
    "#                    TqdmCallback(verbose=1)],\n",
    "#          verbose=0)\n"
   ]
  },
  {
   "cell_type": "code",
   "execution_count": null,
   "id": "destroyed-frontier",
   "metadata": {
    "tags": []
   },
   "outputs": [],
   "source": [
    "model = get_compiled_model()\n",
    "model.fit(dataset.batch(1024), epochs=2500,\n",
    "         callbacks=[tf.keras.callbacks.EarlyStopping(\n",
    "    monitor='loss', min_delta=0, patience=25, verbose=0,\n",
    "    mode='auto', baseline=None, restore_best_weights=True),\n",
    "                   TqdmCallback(verbose=0)],\n",
    "         verbose=0)"
   ]
  },
  {
   "cell_type": "markdown",
   "id": "coastal-conspiracy",
   "metadata": {},
   "source": [
    "1,066,943\n",
    "1,722,103"
   ]
  },
  {
   "cell_type": "code",
   "execution_count": null,
   "id": "otherwise-paintball",
   "metadata": {},
   "outputs": [],
   "source": [
    "base = pd.DataFrame([target, target.shift(12)]).T.dropna()"
   ]
  },
  {
   "cell_type": "code",
   "execution_count": null,
   "id": "native-productivity",
   "metadata": {},
   "outputs": [],
   "source": [
    "val = tf.expand_dims(pd.DataFrame(df.iloc[-1,:]).T.to_numpy(), -1)"
   ]
  },
  {
   "cell_type": "code",
   "execution_count": null,
   "id": "regional-entry",
   "metadata": {},
   "outputs": [],
   "source": [
    "residual_lstm.predict(val)"
   ]
  },
  {
   "cell_type": "code",
   "execution_count": null,
   "id": "following-peace",
   "metadata": {},
   "outputs": [],
   "source": [
    "base"
   ]
  },
  {
   "cell_type": "code",
   "execution_count": null,
   "id": "capable-wages",
   "metadata": {},
   "outputs": [],
   "source": [
    "from sklearn.metrics import mean_absolute_percentage_error as MAPE"
   ]
  },
  {
   "cell_type": "code",
   "execution_count": null,
   "id": "atlantic-stamp",
   "metadata": {},
   "outputs": [],
   "source": [
    "MAPE(base.iloc[:,0], base.iloc[:,1])"
   ]
  },
  {
   "cell_type": "code",
   "execution_count": null,
   "id": "introductory-scholarship",
   "metadata": {},
   "outputs": [],
   "source": [
    "column_indices = {name: i for i, name in enumerate(df.columns)}\n",
    "\n",
    "n = len(df)\n",
    "train_df = df[0:int(n*0.7)]\n",
    "val_df = df[int(n*0.7):int(n*0.9)]\n",
    "test_df = df[int(n*0.9):]\n",
    "\n",
    "num_features = df.shape[1]\n"
   ]
  },
  {
   "cell_type": "code",
   "execution_count": null,
   "id": "impossible-terminal",
   "metadata": {},
   "outputs": [],
   "source": [
    "train_df"
   ]
  },
  {
   "cell_type": "code",
   "execution_count": 167,
   "id": "limited-beast",
   "metadata": {},
   "outputs": [
    {
     "output_type": "error",
     "ename": "NameError",
     "evalue": "name 'train_df' is not defined",
     "traceback": [
      "\u001b[0;31m---------------------------------------------------------------------------\u001b[0m",
      "\u001b[0;31mNameError\u001b[0m                                 Traceback (most recent call last)",
      "\u001b[0;32m<ipython-input-167-63a528abd2b5>\u001b[0m in \u001b[0;36m<module>\u001b[0;34m\u001b[0m\n\u001b[1;32m      1\u001b[0m def __init__(self, input_width, label_width, shift,\n\u001b[0;32m----> 2\u001b[0;31m              \u001b[0mtrain_df\u001b[0m\u001b[0;34m=\u001b[0m\u001b[0mtrain_df\u001b[0m\u001b[0;34m,\u001b[0m \u001b[0mval_df\u001b[0m\u001b[0;34m=\u001b[0m\u001b[0mval_df\u001b[0m\u001b[0;34m,\u001b[0m \u001b[0mtest_df\u001b[0m\u001b[0;34m=\u001b[0m\u001b[0mtest_df\u001b[0m\u001b[0;34m,\u001b[0m\u001b[0;34m\u001b[0m\u001b[0;34m\u001b[0m\u001b[0m\n\u001b[0m\u001b[1;32m      3\u001b[0m              label_columns=None):\n\u001b[1;32m      4\u001b[0m   \u001b[0;31m# Store the raw data.\u001b[0m\u001b[0;34m\u001b[0m\u001b[0;34m\u001b[0m\u001b[0;34m\u001b[0m\u001b[0m\n\u001b[1;32m      5\u001b[0m   \u001b[0mself\u001b[0m\u001b[0;34m.\u001b[0m\u001b[0mtrain_df\u001b[0m \u001b[0;34m=\u001b[0m \u001b[0mtrain_df\u001b[0m\u001b[0;34m\u001b[0m\u001b[0;34m\u001b[0m\u001b[0m\n",
      "\u001b[0;31mNameError\u001b[0m: name 'train_df' is not defined"
     ]
    }
   ],
   "source": [
    "  def __init__(self, input_width, label_width, shift,\n",
    "               train_df=train_df, val_df=val_df, test_df=test_df,\n",
    "               label_columns=None):\n",
    "    # Store the raw data.\n",
    "    self.train_df = train_df\n",
    "    self.val_df = val_df\n",
    "    self.test_df = test_df\n",
    "\n",
    "    # Work out the label column indices.\n",
    "    self.label_columns = label_columns\n",
    "    if label_columns is not None:\n",
    "      self.label_columns_indices = {name: i for i, name in\n",
    "                                    enumerate(label_columns)}\n",
    "    self.column_indices = {name: i for i, name in\n",
    "                           enumerate(train_df.columns)}\n",
    "\n",
    "    # Work out the window parameters.\n",
    "    self.input_width = input_width\n",
    "    self.label_width = label_width\n",
    "    self.shift = shift\n",
    "\n",
    "    self.total_window_size = input_width + shift\n",
    "\n",
    "    self.input_slice = slice(0, input_width)\n",
    "    self.input_indices = np.arange(self.total_window_size)[self.input_slice]\n",
    "\n",
    "    self.label_start = self.total_window_size - self.label_width\n",
    "    self.labels_slice = slice(self.label_start, None)\n",
    "    self.label_indices = np.arange(self.total_window_size)[self.labels_slice]\n",
    "\n",
    "  def __repr__(self):\n",
    "    return '\\n'.join([\n",
    "        f'Total window size: {self.total_window_size}',\n",
    "        f'Input indices: {self.input_indices}',   \n",
    "        f'Label indices: {self.label_indices}',\n",
    "        f'Label column name(s): {self.label_columns}']) \n"
   ]
  },
  {
   "source": [
    "# Random Forest"
   ],
   "cell_type": "markdown",
   "metadata": {}
  },
  {
   "cell_type": "code",
   "execution_count": 435,
   "id": "thorough-finding",
   "metadata": {},
   "outputs": [],
   "source": [
    "import pandas as pd\n",
    "from pathlib import Path\n",
    "import numpy as np\n",
    "\n",
    "def process_df() -> pd.DataFrame:\n",
    "    path = Path(\"data/Metro_ZORI_AllHomesPlusMultifamily_Smoothed.csv\")\n",
    "    df = pd.read_csv(path)\n",
    "    \n",
    "    # Drop United States, extra columns\n",
    "    df = df.drop(0)\n",
    "    df = df.drop([\"RegionID\", \"SizeRank\"], axis =1)\n",
    "    \n",
    "    # Melt data and parse dates.\n",
    "    df = df.melt([\"RegionName\"], var_name=\"Date\", value_name = \"RentIndex\")\n",
    "    df['Date'] = pd.to_datetime(df['Date'], infer_datetime_format=True)\n",
    "    \n",
    "    # Add interpolate missing data\n",
    "    cities = df[\"RegionName\"].unique()\n",
    "    interpol = []\n",
    "    num = 0\n",
    "\n",
    "    for c in cities:\n",
    "\n",
    "        mask = df['RegionName'] == c\n",
    "        chunk = (df[mask]\n",
    "                 .drop('RegionName', 1)\n",
    "                 .set_index('Date')\n",
    "                 .resample(rule=\"M\")\n",
    "                 .mean()\n",
    "                 .interpolate()\n",
    "                    )\n",
    "        for i in range(1,13):\n",
    "            chunk[f't-{i}'] = chunk['RentIndex'].shift(i)\n",
    "            chunk[f't-{i}Diff'] = chunk['RentIndex'] - chunk[f't-{i}']\n",
    "        for i in range(1,7):\n",
    "            chunk[f't+{i}'] = chunk['RentIndex'].shift(-i)\n",
    "        chunk['RegionName'] = c\n",
    "        chunk=chunk.dropna().reset_index().reset_index().rename({\"index\":\"TimeIndex\"}, axis=1)\n",
    "        num+=1\n",
    "        interpol.append(chunk)\n",
    "\n",
    "    df = pd.concat(interpol, ignore_index=True)\n",
    "\n",
    "    # Region Name to Categorical\n",
    "    #     df['RegionName'] = df['RegionName'].astype(\"category\")\n",
    "    \n",
    "    # Extract month and year\n",
    "    \n",
    "    day = 24*60*60\n",
    "    year = (365.2425)*day\n",
    "\n",
    "    df['MonthSin'] = np.sin(df['Date'].dt.month * (2 * np.pi / 12))\n",
    "    df['MonthCos'] = np.cos(df['Date'].dt.month * (2 * np.pi / 12))\n",
    "#     df['Month'] = df['Date'].dt.month\n",
    "    df['Year'] = df['Date'].dt.year\n",
    "#     df['target'] = df['RentIndex'].shift(-3)\n",
    "    # df = df.drop('Date', 1)\n",
    "    # df['Covid'] = (df['Date'].dt.year >= 2020) & (df['Date'].dt.month >= 3)\n",
    "    df=df.dropna()\n",
    "\n",
    "    return(df)"
   ]
  },
  {
   "cell_type": "code",
   "execution_count": 436,
   "id": "chemical-clearing",
   "metadata": {},
   "outputs": [],
   "source": [
    "df = process_df()"
   ]
  },
  {
   "cell_type": "code",
   "execution_count": 437,
   "metadata": {},
   "outputs": [],
   "source": [
    "df['Covid'] = (df['Date'].dt.year >= 2020) & (df['Date'].dt.month >= 3)"
   ]
  },
  {
   "cell_type": "code",
   "execution_count": 438,
   "id": "amazing-hunter",
   "metadata": {},
   "outputs": [],
   "source": [
    "from sklearn.preprocessing import StandardScaler\n",
    "from category_encoders import OneHotEncoder"
   ]
  },
  {
   "cell_type": "code",
   "execution_count": 439,
   "id": "subtle-captain",
   "metadata": {},
   "outputs": [],
   "source": [
    "def encode_and_scale(df):\n",
    "    col_to_scale = ['RentIndex', 't-1', 't-1Diff', 't-2', 't-2Diff', 't-3',\n",
    "       't-3Diff', 't-4', 't-4Diff', 't-5', 't-5Diff', 't-6', 't-6Diff', 't-7',\n",
    "       't-7Diff', 't-8', 't-8Diff', 't-9', 't-9Diff', 't-10', 't-10Diff',\n",
    "       't-11', 't-11Diff', 't-12', 't-12Diff', 't+1', 't+2', 't+3', 't+4',\n",
    "       't+5', 't+6']\n",
    "    \n",
    "    scaler1 = StandardScaler()\n",
    "    scaler1.fit(df[['RentIndex']])\n",
    "    lags= [n for n in col_to_scale if \"Diff\" not in n]\n",
    "    for col in lags:\n",
    "        df[col] = scaler1.transform(df[[col]])\n",
    "        \n",
    "    scaler2 = StandardScaler()\n",
    "    diffs = [n for n in col_to_scale if \"Diff\" in n]\n",
    "    scaler2.fit(df[['t-1Diff']])\n",
    "    for col in diffs:\n",
    "        df[col] = scaler2.transform(df[[col]])\n",
    "    \n",
    "    regions = df[['RegionName']]\n",
    "    encoder = OneHotEncoder(use_cat_names=True)\n",
    "    \n",
    "    df = pd.concat(\n",
    "        [df,\n",
    "         encoder.fit_transform(pd.DataFrame(regions))\n",
    "        ],\n",
    "    axis=1)\n",
    "   \n",
    "    \n",
    "\n",
    "    return(df, scaler1, encoder)\n",
    "    "
   ]
  },
  {
   "cell_type": "code",
   "execution_count": 440,
   "id": "handmade-letters",
   "metadata": {},
   "outputs": [],
   "source": [
    "df, scaler, encoder = encode_and_scale(df)"
   ]
  },
  {
   "cell_type": "code",
   "execution_count": 408,
   "id": "answering-darwin",
   "metadata": {},
   "outputs": [
    {
     "output_type": "execute_result",
     "data": {
      "text/plain": [
       "0       False\n",
       "1       False\n",
       "2       False\n",
       "3       False\n",
       "4       False\n",
       "        ...  \n",
       "6655    False\n",
       "6656     True\n",
       "6657     True\n",
       "6658     True\n",
       "6659     True\n",
       "Name: Covid, Length: 6660, dtype: bool"
      ]
     },
     "metadata": {},
     "execution_count": 408
    }
   ],
   "source": [
    "df['Covid']"
   ]
  },
  {
   "cell_type": "code",
   "execution_count": 441,
   "id": "photographic-acquisition",
   "metadata": {},
   "outputs": [],
   "source": [
    "max_time = max(df['TimeIndex'])"
   ]
  },
  {
   "cell_type": "code",
   "execution_count": 442,
   "id": "german-oriental",
   "metadata": {},
   "outputs": [],
   "source": [
    "train = df[df['TimeIndex'] < int(max_time - 6)].drop('TimeIndex',1)\n",
    "val = df[df['TimeIndex'] > int(max_time - 6)].drop('TimeIndex',1)\n",
    "full = last = df[df['TimeIndex'] < int(max_time - 1)].drop('TimeIndex',1)\n",
    "last = df[df['TimeIndex'] > int(max_time - 1)].drop('TimeIndex',1)"
   ]
  },
  {
   "cell_type": "code",
   "execution_count": 443,
   "id": "plain-schema",
   "metadata": {},
   "outputs": [],
   "source": [
    "def split_target(df):\n",
    "    targets = ['t+1', 't+2', 't+3','t+4','t+5','t+6']\n",
    "    return (df.drop(targets,1), df[targets])\n"
   ]
  },
  {
   "cell_type": "code",
   "execution_count": 444,
   "id": "hispanic-threat",
   "metadata": {},
   "outputs": [],
   "source": [
    "from sklearn.metrics import mean_absolute_percentage_error as mape"
   ]
  },
  {
   "cell_type": "code",
   "execution_count": 445,
   "id": "confident-hunger",
   "metadata": {},
   "outputs": [],
   "source": [
    "val_x, val_y = split_target(val)"
   ]
  },
  {
   "cell_type": "code",
   "execution_count": null,
   "id": "mediterranean-berlin",
   "metadata": {},
   "outputs": [],
   "source": [
    "val_y"
   ]
  },
  {
   "cell_type": "code",
   "execution_count": 119,
   "id": "married-patent",
   "metadata": {},
   "outputs": [],
   "source": [
    "from sklearn.ensemble import RandomForestRegressor, GradientBoostingRegressor"
   ]
  },
  {
   "cell_type": "code",
   "execution_count": 446,
   "id": "pharmaceutical-ireland",
   "metadata": {},
   "outputs": [],
   "source": [
    "train_x, train_y = split_target(train)"
   ]
  },
  {
   "cell_type": "code",
   "execution_count": 447,
   "id": "organizational-mentor",
   "metadata": {},
   "outputs": [],
   "source": [
    "model = RandomForestRegressor(1000, n_jobs=-1)"
   ]
  },
  {
   "cell_type": "code",
   "execution_count": 448,
   "id": "delayed-bulgarian",
   "metadata": {},
   "outputs": [
    {
     "output_type": "execute_result",
     "data": {
      "text/plain": [
       "RandomForestRegressor(n_estimators=1000, n_jobs=-1)"
      ]
     },
     "metadata": {},
     "execution_count": 448
    }
   ],
   "source": [
    "model.fit(train_x.drop(['RegionName', 'Date'],1), train_y)"
   ]
  },
  {
   "cell_type": "code",
   "execution_count": 190,
   "id": "known-satin",
   "metadata": {},
   "outputs": [],
   "source": [
    "from sklearn.metrics import mean_squared_error"
   ]
  },
  {
   "cell_type": "code",
   "execution_count": 191,
   "metadata": {},
   "outputs": [
    {
     "output_type": "execute_result",
     "data": {
      "text/plain": [
       "           Date  RentIndex       t-1   t-1Diff       t-2   t-2Diff       t-3  \\\n",
       "60   2020-01-31   3.260221  3.245915  0.206615  3.272142 -0.998146  3.319829   \n",
       "61   2020-02-29   3.322213  3.260221  2.397091  3.245915  3.054233  3.272142   \n",
       "62   2020-03-31   3.365132  3.322213  1.520900  3.260221  4.368519  3.245915   \n",
       "63   2020-04-30   3.331751  3.365132 -1.983860  3.322213 -0.012432  3.260221   \n",
       "64   2020-05-31   3.293601  3.331751 -2.202908  3.365132 -3.736241  3.322213   \n",
       "...         ...        ...       ...       ...       ...       ...       ...   \n",
       "6655 2020-02-29   0.012750  0.031824 -1.326718 -0.034937  1.739948 -0.039706   \n",
       "6656 2020-03-31  -0.013478  0.012750 -1.655289  0.031824 -2.531479 -0.034937   \n",
       "6657 2020-04-30  -0.013478 -0.013478 -0.450528  0.012750 -1.655289  0.031824   \n",
       "6658 2020-05-31  -0.042090 -0.013478 -1.764813 -0.013478 -1.764813  0.012750   \n",
       "6659 2020-06-30  -0.034937 -0.042090 -0.121956 -0.013478 -1.436241 -0.013478   \n",
       "\n",
       "       t-3Diff       t-4   t-4Diff  ...  RegionName_Melbourne, FL  \\\n",
       "60   -3.188622  3.319829 -3.188622  ...                         0   \n",
       "61    1.849472  3.319829 -0.341004  ...                         0   \n",
       "62    5.025661  3.272142  3.820900  ...                         0   \n",
       "63    2.835186  3.245915  3.492328  ...                         0   \n",
       "64   -1.764813  3.260221  1.082805  ...                         0   \n",
       "...        ...       ...       ...  ...                       ...   \n",
       "6655  1.958996 -0.056396  2.725662  ...                         0   \n",
       "6656  0.535186 -0.039706  0.754234  ...                         0   \n",
       "6657 -2.531479 -0.034937  0.535186  ...                         0   \n",
       "6658 -2.969574  0.031824 -3.845765  ...                         0   \n",
       "6659 -1.436241  0.012750 -2.641003  ...                         0   \n",
       "\n",
       "      RegionName_Chattanooga, TN  RegionName_Spokane, WA  \\\n",
       "60                             0                       0   \n",
       "61                             0                       0   \n",
       "62                             0                       0   \n",
       "63                             0                       0   \n",
       "64                             0                       0   \n",
       "...                          ...                     ...   \n",
       "6655                           0                       0   \n",
       "6656                           0                       0   \n",
       "6657                           0                       0   \n",
       "6658                           0                       0   \n",
       "6659                           0                       0   \n",
       "\n",
       "      RegionName_Provo, UT  RegionName_Durham, NC  \\\n",
       "60                       0                      0   \n",
       "61                       0                      0   \n",
       "62                       0                      0   \n",
       "63                       0                      0   \n",
       "64                       0                      0   \n",
       "...                    ...                    ...   \n",
       "6655                     0                      0   \n",
       "6656                     0                      0   \n",
       "6657                     0                      0   \n",
       "6658                     0                      0   \n",
       "6659                     0                      0   \n",
       "\n",
       "      RegionName_Port St. Lucie, FL  RegionName_Fort Collins, CO  \\\n",
       "60                                0                            0   \n",
       "61                                0                            0   \n",
       "62                                0                            0   \n",
       "63                                0                            0   \n",
       "64                                0                            0   \n",
       "...                             ...                          ...   \n",
       "6655                              0                            0   \n",
       "6656                              0                            0   \n",
       "6657                              0                            0   \n",
       "6658                              0                            0   \n",
       "6659                              0                            0   \n",
       "\n",
       "      RegionName_Boulder, CO  RegionName_Greeley, CO  \\\n",
       "60                         0                       0   \n",
       "61                         0                       0   \n",
       "62                         0                       0   \n",
       "63                         0                       0   \n",
       "64                         0                       0   \n",
       "...                      ...                     ...   \n",
       "6655                       0                       0   \n",
       "6656                       0                       0   \n",
       "6657                       0                       0   \n",
       "6658                       0                       0   \n",
       "6659                       0                       0   \n",
       "\n",
       "      RegionName_Gainesville, GA  \n",
       "60                             0  \n",
       "61                             0  \n",
       "62                             0  \n",
       "63                             0  \n",
       "64                             0  \n",
       "...                          ...  \n",
       "6655                           1  \n",
       "6656                           1  \n",
       "6657                           1  \n",
       "6658                           1  \n",
       "6659                           1  \n",
       "\n",
       "[600 rows x 131 columns]"
      ],
      "text/html": "<div>\n<style scoped>\n    .dataframe tbody tr th:only-of-type {\n        vertical-align: middle;\n    }\n\n    .dataframe tbody tr th {\n        vertical-align: top;\n    }\n\n    .dataframe thead th {\n        text-align: right;\n    }\n</style>\n<table border=\"1\" class=\"dataframe\">\n  <thead>\n    <tr style=\"text-align: right;\">\n      <th></th>\n      <th>Date</th>\n      <th>RentIndex</th>\n      <th>t-1</th>\n      <th>t-1Diff</th>\n      <th>t-2</th>\n      <th>t-2Diff</th>\n      <th>t-3</th>\n      <th>t-3Diff</th>\n      <th>t-4</th>\n      <th>t-4Diff</th>\n      <th>...</th>\n      <th>RegionName_Melbourne, FL</th>\n      <th>RegionName_Chattanooga, TN</th>\n      <th>RegionName_Spokane, WA</th>\n      <th>RegionName_Provo, UT</th>\n      <th>RegionName_Durham, NC</th>\n      <th>RegionName_Port St. Lucie, FL</th>\n      <th>RegionName_Fort Collins, CO</th>\n      <th>RegionName_Boulder, CO</th>\n      <th>RegionName_Greeley, CO</th>\n      <th>RegionName_Gainesville, GA</th>\n    </tr>\n  </thead>\n  <tbody>\n    <tr>\n      <th>60</th>\n      <td>2020-01-31</td>\n      <td>3.260221</td>\n      <td>3.245915</td>\n      <td>0.206615</td>\n      <td>3.272142</td>\n      <td>-0.998146</td>\n      <td>3.319829</td>\n      <td>-3.188622</td>\n      <td>3.319829</td>\n      <td>-3.188622</td>\n      <td>...</td>\n      <td>0</td>\n      <td>0</td>\n      <td>0</td>\n      <td>0</td>\n      <td>0</td>\n      <td>0</td>\n      <td>0</td>\n      <td>0</td>\n      <td>0</td>\n      <td>0</td>\n    </tr>\n    <tr>\n      <th>61</th>\n      <td>2020-02-29</td>\n      <td>3.322213</td>\n      <td>3.260221</td>\n      <td>2.397091</td>\n      <td>3.245915</td>\n      <td>3.054233</td>\n      <td>3.272142</td>\n      <td>1.849472</td>\n      <td>3.319829</td>\n      <td>-0.341004</td>\n      <td>...</td>\n      <td>0</td>\n      <td>0</td>\n      <td>0</td>\n      <td>0</td>\n      <td>0</td>\n      <td>0</td>\n      <td>0</td>\n      <td>0</td>\n      <td>0</td>\n      <td>0</td>\n    </tr>\n    <tr>\n      <th>62</th>\n      <td>2020-03-31</td>\n      <td>3.365132</td>\n      <td>3.322213</td>\n      <td>1.520900</td>\n      <td>3.260221</td>\n      <td>4.368519</td>\n      <td>3.245915</td>\n      <td>5.025661</td>\n      <td>3.272142</td>\n      <td>3.820900</td>\n      <td>...</td>\n      <td>0</td>\n      <td>0</td>\n      <td>0</td>\n      <td>0</td>\n      <td>0</td>\n      <td>0</td>\n      <td>0</td>\n      <td>0</td>\n      <td>0</td>\n      <td>0</td>\n    </tr>\n    <tr>\n      <th>63</th>\n      <td>2020-04-30</td>\n      <td>3.331751</td>\n      <td>3.365132</td>\n      <td>-1.983860</td>\n      <td>3.322213</td>\n      <td>-0.012432</td>\n      <td>3.260221</td>\n      <td>2.835186</td>\n      <td>3.245915</td>\n      <td>3.492328</td>\n      <td>...</td>\n      <td>0</td>\n      <td>0</td>\n      <td>0</td>\n      <td>0</td>\n      <td>0</td>\n      <td>0</td>\n      <td>0</td>\n      <td>0</td>\n      <td>0</td>\n      <td>0</td>\n    </tr>\n    <tr>\n      <th>64</th>\n      <td>2020-05-31</td>\n      <td>3.293601</td>\n      <td>3.331751</td>\n      <td>-2.202908</td>\n      <td>3.365132</td>\n      <td>-3.736241</td>\n      <td>3.322213</td>\n      <td>-1.764813</td>\n      <td>3.260221</td>\n      <td>1.082805</td>\n      <td>...</td>\n      <td>0</td>\n      <td>0</td>\n      <td>0</td>\n      <td>0</td>\n      <td>0</td>\n      <td>0</td>\n      <td>0</td>\n      <td>0</td>\n      <td>0</td>\n      <td>0</td>\n    </tr>\n    <tr>\n      <th>...</th>\n      <td>...</td>\n      <td>...</td>\n      <td>...</td>\n      <td>...</td>\n      <td>...</td>\n      <td>...</td>\n      <td>...</td>\n      <td>...</td>\n      <td>...</td>\n      <td>...</td>\n      <td>...</td>\n      <td>...</td>\n      <td>...</td>\n      <td>...</td>\n      <td>...</td>\n      <td>...</td>\n      <td>...</td>\n      <td>...</td>\n      <td>...</td>\n      <td>...</td>\n      <td>...</td>\n    </tr>\n    <tr>\n      <th>6655</th>\n      <td>2020-02-29</td>\n      <td>0.012750</td>\n      <td>0.031824</td>\n      <td>-1.326718</td>\n      <td>-0.034937</td>\n      <td>1.739948</td>\n      <td>-0.039706</td>\n      <td>1.958996</td>\n      <td>-0.056396</td>\n      <td>2.725662</td>\n      <td>...</td>\n      <td>0</td>\n      <td>0</td>\n      <td>0</td>\n      <td>0</td>\n      <td>0</td>\n      <td>0</td>\n      <td>0</td>\n      <td>0</td>\n      <td>0</td>\n      <td>1</td>\n    </tr>\n    <tr>\n      <th>6656</th>\n      <td>2020-03-31</td>\n      <td>-0.013478</td>\n      <td>0.012750</td>\n      <td>-1.655289</td>\n      <td>0.031824</td>\n      <td>-2.531479</td>\n      <td>-0.034937</td>\n      <td>0.535186</td>\n      <td>-0.039706</td>\n      <td>0.754234</td>\n      <td>...</td>\n      <td>0</td>\n      <td>0</td>\n      <td>0</td>\n      <td>0</td>\n      <td>0</td>\n      <td>0</td>\n      <td>0</td>\n      <td>0</td>\n      <td>0</td>\n      <td>1</td>\n    </tr>\n    <tr>\n      <th>6657</th>\n      <td>2020-04-30</td>\n      <td>-0.013478</td>\n      <td>-0.013478</td>\n      <td>-0.450528</td>\n      <td>0.012750</td>\n      <td>-1.655289</td>\n      <td>0.031824</td>\n      <td>-2.531479</td>\n      <td>-0.034937</td>\n      <td>0.535186</td>\n      <td>...</td>\n      <td>0</td>\n      <td>0</td>\n      <td>0</td>\n      <td>0</td>\n      <td>0</td>\n      <td>0</td>\n      <td>0</td>\n      <td>0</td>\n      <td>0</td>\n      <td>1</td>\n    </tr>\n    <tr>\n      <th>6658</th>\n      <td>2020-05-31</td>\n      <td>-0.042090</td>\n      <td>-0.013478</td>\n      <td>-1.764813</td>\n      <td>-0.013478</td>\n      <td>-1.764813</td>\n      <td>0.012750</td>\n      <td>-2.969574</td>\n      <td>0.031824</td>\n      <td>-3.845765</td>\n      <td>...</td>\n      <td>0</td>\n      <td>0</td>\n      <td>0</td>\n      <td>0</td>\n      <td>0</td>\n      <td>0</td>\n      <td>0</td>\n      <td>0</td>\n      <td>0</td>\n      <td>1</td>\n    </tr>\n    <tr>\n      <th>6659</th>\n      <td>2020-06-30</td>\n      <td>-0.034937</td>\n      <td>-0.042090</td>\n      <td>-0.121956</td>\n      <td>-0.013478</td>\n      <td>-1.436241</td>\n      <td>-0.013478</td>\n      <td>-1.436241</td>\n      <td>0.012750</td>\n      <td>-2.641003</td>\n      <td>...</td>\n      <td>0</td>\n      <td>0</td>\n      <td>0</td>\n      <td>0</td>\n      <td>0</td>\n      <td>0</td>\n      <td>0</td>\n      <td>0</td>\n      <td>0</td>\n      <td>1</td>\n    </tr>\n  </tbody>\n</table>\n<p>600 rows × 131 columns</p>\n</div>"
     },
     "metadata": {},
     "execution_count": 191
    }
   ],
   "source": [
    "val_x"
   ]
  },
  {
   "cell_type": "code",
   "execution_count": 451,
   "id": "minor-sociology",
   "metadata": {},
   "outputs": [
    {
     "output_type": "execute_result",
     "data": {
      "text/plain": [
       "0.013313749788021599"
      ]
     },
     "metadata": {},
     "execution_count": 451
    }
   ],
   "source": [
    "preds = model.predict(val_x.drop(['RegionName', 'Date'],1))\n",
    "mape(scaler.inverse_transform(preds), scaler.inverse_transform(val_y))"
   ]
  },
  {
   "cell_type": "code",
   "execution_count": 221,
   "metadata": {},
   "outputs": [
    {
     "output_type": "execute_result",
     "data": {
      "text/plain": [
       "          RegionName       Date\n",
       "0       New York, NY 2020-01-31\n",
       "1       New York, NY 2020-02-29\n",
       "2       New York, NY 2020-03-31\n",
       "3       New York, NY 2020-04-30\n",
       "4       New York, NY 2020-05-31\n",
       "..               ...        ...\n",
       "595  Gainesville, GA 2020-02-29\n",
       "596  Gainesville, GA 2020-03-31\n",
       "597  Gainesville, GA 2020-04-30\n",
       "598  Gainesville, GA 2020-05-31\n",
       "599  Gainesville, GA 2020-06-30\n",
       "\n",
       "[600 rows x 2 columns]"
      ],
      "text/html": "<div>\n<style scoped>\n    .dataframe tbody tr th:only-of-type {\n        vertical-align: middle;\n    }\n\n    .dataframe tbody tr th {\n        vertical-align: top;\n    }\n\n    .dataframe thead th {\n        text-align: right;\n    }\n</style>\n<table border=\"1\" class=\"dataframe\">\n  <thead>\n    <tr style=\"text-align: right;\">\n      <th></th>\n      <th>RegionName</th>\n      <th>Date</th>\n    </tr>\n  </thead>\n  <tbody>\n    <tr>\n      <th>0</th>\n      <td>New York, NY</td>\n      <td>2020-01-31</td>\n    </tr>\n    <tr>\n      <th>1</th>\n      <td>New York, NY</td>\n      <td>2020-02-29</td>\n    </tr>\n    <tr>\n      <th>2</th>\n      <td>New York, NY</td>\n      <td>2020-03-31</td>\n    </tr>\n    <tr>\n      <th>3</th>\n      <td>New York, NY</td>\n      <td>2020-04-30</td>\n    </tr>\n    <tr>\n      <th>4</th>\n      <td>New York, NY</td>\n      <td>2020-05-31</td>\n    </tr>\n    <tr>\n      <th>...</th>\n      <td>...</td>\n      <td>...</td>\n    </tr>\n    <tr>\n      <th>595</th>\n      <td>Gainesville, GA</td>\n      <td>2020-02-29</td>\n    </tr>\n    <tr>\n      <th>596</th>\n      <td>Gainesville, GA</td>\n      <td>2020-03-31</td>\n    </tr>\n    <tr>\n      <th>597</th>\n      <td>Gainesville, GA</td>\n      <td>2020-04-30</td>\n    </tr>\n    <tr>\n      <th>598</th>\n      <td>Gainesville, GA</td>\n      <td>2020-05-31</td>\n    </tr>\n    <tr>\n      <th>599</th>\n      <td>Gainesville, GA</td>\n      <td>2020-06-30</td>\n    </tr>\n  </tbody>\n</table>\n<p>600 rows × 2 columns</p>\n</div>"
     },
     "metadata": {},
     "execution_count": 221
    }
   ],
   "source": [
    "ids = val_x[['RegionName','Date']].reset_index().drop('index',1)\n",
    "ids"
   ]
  },
  {
   "cell_type": "code",
   "execution_count": 449,
   "metadata": {},
   "outputs": [
    {
     "output_type": "execute_result",
     "data": {
      "text/plain": [
       "          t+1       t+2       t+3       t+4       t+5       t+6\n",
       "0    2700.090  2710.985  2724.910  2737.720  2740.894  2737.584\n",
       "1    2709.322  2720.300  2733.498  2743.449  2745.342  2740.150\n",
       "2    2850.663  2864.362  2877.007  2886.707  2892.843  2893.158\n",
       "3    2721.797  2733.999  2744.562  2753.140  2754.975  2753.726\n",
       "4    2696.779  2706.290  2716.638  2725.213  2728.538  2729.344\n",
       "..        ...       ...       ...       ...       ...       ...\n",
       "595  1353.374  1361.087  1368.505  1375.731  1381.102  1387.013\n",
       "596  1346.974  1351.295  1354.941  1360.434  1365.731  1369.926\n",
       "597  1345.320  1348.285  1351.289  1354.934  1357.680  1361.391\n",
       "598  1334.828  1341.341  1348.556  1351.200  1360.424  1366.116\n",
       "599  1337.084  1343.765  1350.784  1353.870  1365.617  1371.155\n",
       "\n",
       "[600 rows x 6 columns]"
      ],
      "text/html": "<div>\n<style scoped>\n    .dataframe tbody tr th:only-of-type {\n        vertical-align: middle;\n    }\n\n    .dataframe tbody tr th {\n        vertical-align: top;\n    }\n\n    .dataframe thead th {\n        text-align: right;\n    }\n</style>\n<table border=\"1\" class=\"dataframe\">\n  <thead>\n    <tr style=\"text-align: right;\">\n      <th></th>\n      <th>t+1</th>\n      <th>t+2</th>\n      <th>t+3</th>\n      <th>t+4</th>\n      <th>t+5</th>\n      <th>t+6</th>\n    </tr>\n  </thead>\n  <tbody>\n    <tr>\n      <th>0</th>\n      <td>2700.090</td>\n      <td>2710.985</td>\n      <td>2724.910</td>\n      <td>2737.720</td>\n      <td>2740.894</td>\n      <td>2737.584</td>\n    </tr>\n    <tr>\n      <th>1</th>\n      <td>2709.322</td>\n      <td>2720.300</td>\n      <td>2733.498</td>\n      <td>2743.449</td>\n      <td>2745.342</td>\n      <td>2740.150</td>\n    </tr>\n    <tr>\n      <th>2</th>\n      <td>2850.663</td>\n      <td>2864.362</td>\n      <td>2877.007</td>\n      <td>2886.707</td>\n      <td>2892.843</td>\n      <td>2893.158</td>\n    </tr>\n    <tr>\n      <th>3</th>\n      <td>2721.797</td>\n      <td>2733.999</td>\n      <td>2744.562</td>\n      <td>2753.140</td>\n      <td>2754.975</td>\n      <td>2753.726</td>\n    </tr>\n    <tr>\n      <th>4</th>\n      <td>2696.779</td>\n      <td>2706.290</td>\n      <td>2716.638</td>\n      <td>2725.213</td>\n      <td>2728.538</td>\n      <td>2729.344</td>\n    </tr>\n    <tr>\n      <th>...</th>\n      <td>...</td>\n      <td>...</td>\n      <td>...</td>\n      <td>...</td>\n      <td>...</td>\n      <td>...</td>\n    </tr>\n    <tr>\n      <th>595</th>\n      <td>1353.374</td>\n      <td>1361.087</td>\n      <td>1368.505</td>\n      <td>1375.731</td>\n      <td>1381.102</td>\n      <td>1387.013</td>\n    </tr>\n    <tr>\n      <th>596</th>\n      <td>1346.974</td>\n      <td>1351.295</td>\n      <td>1354.941</td>\n      <td>1360.434</td>\n      <td>1365.731</td>\n      <td>1369.926</td>\n    </tr>\n    <tr>\n      <th>597</th>\n      <td>1345.320</td>\n      <td>1348.285</td>\n      <td>1351.289</td>\n      <td>1354.934</td>\n      <td>1357.680</td>\n      <td>1361.391</td>\n    </tr>\n    <tr>\n      <th>598</th>\n      <td>1334.828</td>\n      <td>1341.341</td>\n      <td>1348.556</td>\n      <td>1351.200</td>\n      <td>1360.424</td>\n      <td>1366.116</td>\n    </tr>\n    <tr>\n      <th>599</th>\n      <td>1337.084</td>\n      <td>1343.765</td>\n      <td>1350.784</td>\n      <td>1353.870</td>\n      <td>1365.617</td>\n      <td>1371.155</td>\n    </tr>\n  </tbody>\n</table>\n<p>600 rows × 6 columns</p>\n</div>"
     },
     "metadata": {},
     "execution_count": 449
    }
   ],
   "source": [
    "projections = pd.DataFrame(scaler.inverse_transform(preds), columns=['t+1', 't+2', 't+3','t+4','t+5','t+6'])\n",
    "projections"
   ]
  },
  {
   "cell_type": "code",
   "execution_count": 226,
   "metadata": {},
   "outputs": [
    {
     "output_type": "execute_result",
     "data": {
      "text/plain": [
       "          t+1       t+2       t+3       t+4       t+5       t+6  \\\n",
       "0    2702.458  2713.214  2726.690  2738.686  2740.824  2736.990   \n",
       "1    2712.531  2723.431  2735.801  2744.602  2745.964  2740.979   \n",
       "2    2851.551  2864.929  2877.954  2887.554  2894.429  2894.198   \n",
       "3    2726.842  2738.986  2748.921  2755.661  2756.288  2754.430   \n",
       "4    2699.520  2709.539  2719.796  2727.709  2729.222  2729.137   \n",
       "..        ...       ...       ...       ...       ...       ...   \n",
       "595  1353.502  1361.418  1368.870  1375.703  1381.490  1387.010   \n",
       "596  1346.724  1351.228  1354.916  1359.737  1364.940  1369.018   \n",
       "597  1345.001  1347.508  1350.456  1354.371  1357.556  1361.644   \n",
       "598  1334.622  1341.275  1348.251  1350.322  1360.221  1365.540   \n",
       "599  1336.906  1343.713  1350.306  1353.610  1364.998  1370.288   \n",
       "\n",
       "          RegionName       Date  \n",
       "0       New York, NY 2020-01-31  \n",
       "1       New York, NY 2020-02-29  \n",
       "2       New York, NY 2020-03-31  \n",
       "3       New York, NY 2020-04-30  \n",
       "4       New York, NY 2020-05-31  \n",
       "..               ...        ...  \n",
       "595  Gainesville, GA 2020-02-29  \n",
       "596  Gainesville, GA 2020-03-31  \n",
       "597  Gainesville, GA 2020-04-30  \n",
       "598  Gainesville, GA 2020-05-31  \n",
       "599  Gainesville, GA 2020-06-30  \n",
       "\n",
       "[600 rows x 8 columns]"
      ],
      "text/html": "<div>\n<style scoped>\n    .dataframe tbody tr th:only-of-type {\n        vertical-align: middle;\n    }\n\n    .dataframe tbody tr th {\n        vertical-align: top;\n    }\n\n    .dataframe thead th {\n        text-align: right;\n    }\n</style>\n<table border=\"1\" class=\"dataframe\">\n  <thead>\n    <tr style=\"text-align: right;\">\n      <th></th>\n      <th>t+1</th>\n      <th>t+2</th>\n      <th>t+3</th>\n      <th>t+4</th>\n      <th>t+5</th>\n      <th>t+6</th>\n      <th>RegionName</th>\n      <th>Date</th>\n    </tr>\n  </thead>\n  <tbody>\n    <tr>\n      <th>0</th>\n      <td>2702.458</td>\n      <td>2713.214</td>\n      <td>2726.690</td>\n      <td>2738.686</td>\n      <td>2740.824</td>\n      <td>2736.990</td>\n      <td>New York, NY</td>\n      <td>2020-01-31</td>\n    </tr>\n    <tr>\n      <th>1</th>\n      <td>2712.531</td>\n      <td>2723.431</td>\n      <td>2735.801</td>\n      <td>2744.602</td>\n      <td>2745.964</td>\n      <td>2740.979</td>\n      <td>New York, NY</td>\n      <td>2020-02-29</td>\n    </tr>\n    <tr>\n      <th>2</th>\n      <td>2851.551</td>\n      <td>2864.929</td>\n      <td>2877.954</td>\n      <td>2887.554</td>\n      <td>2894.429</td>\n      <td>2894.198</td>\n      <td>New York, NY</td>\n      <td>2020-03-31</td>\n    </tr>\n    <tr>\n      <th>3</th>\n      <td>2726.842</td>\n      <td>2738.986</td>\n      <td>2748.921</td>\n      <td>2755.661</td>\n      <td>2756.288</td>\n      <td>2754.430</td>\n      <td>New York, NY</td>\n      <td>2020-04-30</td>\n    </tr>\n    <tr>\n      <th>4</th>\n      <td>2699.520</td>\n      <td>2709.539</td>\n      <td>2719.796</td>\n      <td>2727.709</td>\n      <td>2729.222</td>\n      <td>2729.137</td>\n      <td>New York, NY</td>\n      <td>2020-05-31</td>\n    </tr>\n    <tr>\n      <th>...</th>\n      <td>...</td>\n      <td>...</td>\n      <td>...</td>\n      <td>...</td>\n      <td>...</td>\n      <td>...</td>\n      <td>...</td>\n      <td>...</td>\n    </tr>\n    <tr>\n      <th>595</th>\n      <td>1353.502</td>\n      <td>1361.418</td>\n      <td>1368.870</td>\n      <td>1375.703</td>\n      <td>1381.490</td>\n      <td>1387.010</td>\n      <td>Gainesville, GA</td>\n      <td>2020-02-29</td>\n    </tr>\n    <tr>\n      <th>596</th>\n      <td>1346.724</td>\n      <td>1351.228</td>\n      <td>1354.916</td>\n      <td>1359.737</td>\n      <td>1364.940</td>\n      <td>1369.018</td>\n      <td>Gainesville, GA</td>\n      <td>2020-03-31</td>\n    </tr>\n    <tr>\n      <th>597</th>\n      <td>1345.001</td>\n      <td>1347.508</td>\n      <td>1350.456</td>\n      <td>1354.371</td>\n      <td>1357.556</td>\n      <td>1361.644</td>\n      <td>Gainesville, GA</td>\n      <td>2020-04-30</td>\n    </tr>\n    <tr>\n      <th>598</th>\n      <td>1334.622</td>\n      <td>1341.275</td>\n      <td>1348.251</td>\n      <td>1350.322</td>\n      <td>1360.221</td>\n      <td>1365.540</td>\n      <td>Gainesville, GA</td>\n      <td>2020-05-31</td>\n    </tr>\n    <tr>\n      <th>599</th>\n      <td>1336.906</td>\n      <td>1343.713</td>\n      <td>1350.306</td>\n      <td>1353.610</td>\n      <td>1364.998</td>\n      <td>1370.288</td>\n      <td>Gainesville, GA</td>\n      <td>2020-06-30</td>\n    </tr>\n  </tbody>\n</table>\n<p>600 rows × 8 columns</p>\n</div>"
     },
     "metadata": {},
     "execution_count": 226
    }
   ],
   "source": [
    "projections.join(ids)"
   ]
  },
  {
   "cell_type": "code",
   "execution_count": 165,
   "metadata": {},
   "outputs": [],
   "source": [
    "region_names = val_x[encoder.feature_names].idxmax(1).str.slice(start=len('regionname_'))"
   ]
  },
  {
   "cell_type": "code",
   "execution_count": 166,
   "metadata": {},
   "outputs": [
    {
     "output_type": "execute_result",
     "data": {
      "text/plain": [
       "             0         1         2         3         4         5       Date  \\\n",
       "0     2701.672  2712.109  2726.598  2740.086  2743.757  2741.682 2015-01-31   \n",
       "1     2710.979  2721.855  2734.992  2745.038  2747.131  2742.618 2015-02-28   \n",
       "2     2857.123  2870.687  2884.398  2895.765  2904.184  2905.560 2015-03-31   \n",
       "3     2727.290  2738.451  2749.107  2757.233  2759.425  2758.806 2015-04-30   \n",
       "4     2699.868  2708.276  2718.935  2728.269  2731.553  2732.983 2015-05-31   \n",
       "...        ...       ...       ...       ...       ...       ...        ...   \n",
       "6655       NaN       NaN       NaN       NaN       NaN       NaN 2020-02-29   \n",
       "6656       NaN       NaN       NaN       NaN       NaN       NaN 2020-03-31   \n",
       "6657       NaN       NaN       NaN       NaN       NaN       NaN 2020-04-30   \n",
       "6658       NaN       NaN       NaN       NaN       NaN       NaN 2020-05-31   \n",
       "6659       NaN       NaN       NaN       NaN       NaN       NaN 2020-06-30   \n",
       "\n",
       "                    0  \n",
       "0                 NaN  \n",
       "1                 NaN  \n",
       "2                 NaN  \n",
       "3                 NaN  \n",
       "4                 NaN  \n",
       "...               ...  \n",
       "6655  Gainesville, GA  \n",
       "6656  Gainesville, GA  \n",
       "6657  Gainesville, GA  \n",
       "6658  Gainesville, GA  \n",
       "6659  Gainesville, GA  \n",
       "\n",
       "[6660 rows x 8 columns]"
      ],
      "text/html": "<div>\n<style scoped>\n    .dataframe tbody tr th:only-of-type {\n        vertical-align: middle;\n    }\n\n    .dataframe tbody tr th {\n        vertical-align: top;\n    }\n\n    .dataframe thead th {\n        text-align: right;\n    }\n</style>\n<table border=\"1\" class=\"dataframe\">\n  <thead>\n    <tr style=\"text-align: right;\">\n      <th></th>\n      <th>0</th>\n      <th>1</th>\n      <th>2</th>\n      <th>3</th>\n      <th>4</th>\n      <th>5</th>\n      <th>Date</th>\n      <th>0</th>\n    </tr>\n  </thead>\n  <tbody>\n    <tr>\n      <th>0</th>\n      <td>2701.672</td>\n      <td>2712.109</td>\n      <td>2726.598</td>\n      <td>2740.086</td>\n      <td>2743.757</td>\n      <td>2741.682</td>\n      <td>2015-01-31</td>\n      <td>NaN</td>\n    </tr>\n    <tr>\n      <th>1</th>\n      <td>2710.979</td>\n      <td>2721.855</td>\n      <td>2734.992</td>\n      <td>2745.038</td>\n      <td>2747.131</td>\n      <td>2742.618</td>\n      <td>2015-02-28</td>\n      <td>NaN</td>\n    </tr>\n    <tr>\n      <th>2</th>\n      <td>2857.123</td>\n      <td>2870.687</td>\n      <td>2884.398</td>\n      <td>2895.765</td>\n      <td>2904.184</td>\n      <td>2905.560</td>\n      <td>2015-03-31</td>\n      <td>NaN</td>\n    </tr>\n    <tr>\n      <th>3</th>\n      <td>2727.290</td>\n      <td>2738.451</td>\n      <td>2749.107</td>\n      <td>2757.233</td>\n      <td>2759.425</td>\n      <td>2758.806</td>\n      <td>2015-04-30</td>\n      <td>NaN</td>\n    </tr>\n    <tr>\n      <th>4</th>\n      <td>2699.868</td>\n      <td>2708.276</td>\n      <td>2718.935</td>\n      <td>2728.269</td>\n      <td>2731.553</td>\n      <td>2732.983</td>\n      <td>2015-05-31</td>\n      <td>NaN</td>\n    </tr>\n    <tr>\n      <th>...</th>\n      <td>...</td>\n      <td>...</td>\n      <td>...</td>\n      <td>...</td>\n      <td>...</td>\n      <td>...</td>\n      <td>...</td>\n      <td>...</td>\n    </tr>\n    <tr>\n      <th>6655</th>\n      <td>NaN</td>\n      <td>NaN</td>\n      <td>NaN</td>\n      <td>NaN</td>\n      <td>NaN</td>\n      <td>NaN</td>\n      <td>2020-02-29</td>\n      <td>Gainesville, GA</td>\n    </tr>\n    <tr>\n      <th>6656</th>\n      <td>NaN</td>\n      <td>NaN</td>\n      <td>NaN</td>\n      <td>NaN</td>\n      <td>NaN</td>\n      <td>NaN</td>\n      <td>2020-03-31</td>\n      <td>Gainesville, GA</td>\n    </tr>\n    <tr>\n      <th>6657</th>\n      <td>NaN</td>\n      <td>NaN</td>\n      <td>NaN</td>\n      <td>NaN</td>\n      <td>NaN</td>\n      <td>NaN</td>\n      <td>2020-04-30</td>\n      <td>Gainesville, GA</td>\n    </tr>\n    <tr>\n      <th>6658</th>\n      <td>NaN</td>\n      <td>NaN</td>\n      <td>NaN</td>\n      <td>NaN</td>\n      <td>NaN</td>\n      <td>NaN</td>\n      <td>2020-05-31</td>\n      <td>Gainesville, GA</td>\n    </tr>\n    <tr>\n      <th>6659</th>\n      <td>NaN</td>\n      <td>NaN</td>\n      <td>NaN</td>\n      <td>NaN</td>\n      <td>NaN</td>\n      <td>NaN</td>\n      <td>2020-06-30</td>\n      <td>Gainesville, GA</td>\n    </tr>\n  </tbody>\n</table>\n<p>6660 rows × 8 columns</p>\n</div>"
     },
     "metadata": {},
     "execution_count": 166
    }
   ],
   "source": [
    "pd.concat([projections, dates,region_names],1)"
   ]
  },
  {
   "cell_type": "code",
   "execution_count": null,
   "metadata": {},
   "outputs": [],
   "source": [
    "path = Path(\"data/Metro_ZORI_AllHomesPlusMultifamily_Smoothed.csv\")\n",
    "df = pd.read_csv(path)\n",
    "df"
   ]
  },
  {
   "cell_type": "code",
   "execution_count": 450,
   "id": "champion-healthcare",
   "metadata": {},
   "outputs": [],
   "source": [
    "base = pd.DataFrame([val_x['t-1'],val_x['t-1'],val_x['t-1'],val_x['t-1'],val_x['t-1'],val_x['t-1']]).T"
   ]
  },
  {
   "cell_type": "code",
   "execution_count": 452,
   "id": "bright-adapter",
   "metadata": {},
   "outputs": [],
   "source": [
    "a = mean_squared_error(scaler.inverse_transform(preds), scaler.inverse_transform(val_y), squared=True)\n"
   ]
  },
  {
   "cell_type": "code",
   "execution_count": 453,
   "id": "dedicated-export",
   "metadata": {},
   "outputs": [],
   "source": [
    "b = mean_squared_error(scaler.inverse_transform(base), scaler.inverse_transform(val_y), squared=True)"
   ]
  },
  {
   "cell_type": "code",
   "execution_count": 454,
   "id": "least-payday",
   "metadata": {},
   "outputs": [
    {
     "output_type": "execute_result",
     "data": {
      "text/plain": [
       "13.76424662777896"
      ]
     },
     "metadata": {},
     "execution_count": 454
    }
   ],
   "source": [
    "(b-a) / b *100"
   ]
  },
  {
   "cell_type": "code",
   "execution_count": null,
   "id": "popular-housing",
   "metadata": {},
   "outputs": [],
   "source": [
    "pd.DataFrame(scaler.inverse_transform(preds))"
   ]
  },
  {
   "cell_type": "code",
   "execution_count": null,
   "id": "buried-asbestos",
   "metadata": {},
   "outputs": [],
   "source": [
    "pd.DataFrame(scaler.inverse_transform(val_y))"
   ]
  },
  {
   "cell_type": "code",
   "execution_count": 412,
   "id": "lined-triangle",
   "metadata": {},
   "outputs": [],
   "source": [
    "all_x, all_y = split_target(full)\n",
    "last_x, last_y = split_target(last)"
   ]
  },
  {
   "cell_type": "code",
   "execution_count": 414,
   "id": "compound-mechanism",
   "metadata": {},
   "outputs": [
    {
     "output_type": "execute_result",
     "data": {
      "text/plain": [
       "           Date  RentIndex       t-1   t-1Diff       t-2   t-2Diff       t-3  \\\n",
       "65   2020-06-30   3.248299  3.293601 -2.531479  3.331751 -4.283860  3.365132   \n",
       "131  2020-06-30   2.945488  2.931182  0.206615  2.976484 -1.874337  3.028940   \n",
       "197  2020-06-30   0.770970  0.770970 -0.450528  0.770970 -0.450528  0.778123   \n",
       "263  2020-06-30   0.565917  0.553995  0.097091  0.565917 -0.450528  0.580223   \n",
       "329  2020-06-30   0.520614  0.522998 -0.560051  0.532536 -0.998146  0.530152   \n",
       "...         ...        ...       ...       ...       ...       ...       ...   \n",
       "6395 2020-06-30   0.894956  0.964101 -3.626717  0.801966  3.820900  0.909262   \n",
       "6461 2020-06-30   0.508692  0.456237  1.958996  0.458621  1.849472  0.446700   \n",
       "6527 2020-06-30   1.696094  1.703247 -0.779099  1.679403  0.316139  1.727090   \n",
       "6593 2020-06-30   0.601682  0.606450 -0.669575  0.592144 -0.012432  0.632678   \n",
       "6659 2020-06-30  -0.034937 -0.042090 -0.121956 -0.013478 -1.436241 -0.013478   \n",
       "\n",
       "       t-3Diff       t-4   t-4Diff  ...  RegionName_Melbourne, FL  \\\n",
       "65   -5.817192  3.322213 -3.845765  ...                         0   \n",
       "131  -4.283860  3.028940 -4.283860  ...                         0   \n",
       "197  -0.779099  0.756664  0.206615  ...                         0   \n",
       "263  -1.107670  0.570685 -0.669575  ...                         0   \n",
       "329  -0.888623  0.506308  0.206615  ...                         0   \n",
       "...        ...       ...       ...  ...                       ...   \n",
       "6395 -1.107670  0.902109 -0.779099  ...                         0   \n",
       "6461  2.397091  0.394244  4.806614  ...                         0   \n",
       "6527 -1.874337  1.727090 -1.874337  ...                         0   \n",
       "6593 -1.874337  0.613603 -0.998146  ...                         0   \n",
       "6659 -1.436241  0.012750 -2.641003  ...                         0   \n",
       "\n",
       "      RegionName_Chattanooga, TN  RegionName_Spokane, WA  \\\n",
       "65                             0                       0   \n",
       "131                            0                       0   \n",
       "197                            0                       0   \n",
       "263                            0                       0   \n",
       "329                            0                       0   \n",
       "...                          ...                     ...   \n",
       "6395                           0                       0   \n",
       "6461                           0                       0   \n",
       "6527                           0                       0   \n",
       "6593                           0                       0   \n",
       "6659                           0                       0   \n",
       "\n",
       "      RegionName_Provo, UT  RegionName_Durham, NC  \\\n",
       "65                       0                      0   \n",
       "131                      0                      0   \n",
       "197                      0                      0   \n",
       "263                      0                      0   \n",
       "329                      0                      0   \n",
       "...                    ...                    ...   \n",
       "6395                     0                      0   \n",
       "6461                     0                      0   \n",
       "6527                     0                      0   \n",
       "6593                     0                      0   \n",
       "6659                     0                      0   \n",
       "\n",
       "      RegionName_Port St. Lucie, FL  RegionName_Fort Collins, CO  \\\n",
       "65                                0                            0   \n",
       "131                               0                            0   \n",
       "197                               0                            0   \n",
       "263                               0                            0   \n",
       "329                               0                            0   \n",
       "...                             ...                          ...   \n",
       "6395                              1                            0   \n",
       "6461                              0                            1   \n",
       "6527                              0                            0   \n",
       "6593                              0                            0   \n",
       "6659                              0                            0   \n",
       "\n",
       "      RegionName_Boulder, CO  RegionName_Greeley, CO  \\\n",
       "65                         0                       0   \n",
       "131                        0                       0   \n",
       "197                        0                       0   \n",
       "263                        0                       0   \n",
       "329                        0                       0   \n",
       "...                      ...                     ...   \n",
       "6395                       0                       0   \n",
       "6461                       0                       0   \n",
       "6527                       1                       0   \n",
       "6593                       0                       1   \n",
       "6659                       0                       0   \n",
       "\n",
       "      RegionName_Gainesville, GA  \n",
       "65                             0  \n",
       "131                            0  \n",
       "197                            0  \n",
       "263                            0  \n",
       "329                            0  \n",
       "...                          ...  \n",
       "6395                           0  \n",
       "6461                           0  \n",
       "6527                           0  \n",
       "6593                           0  \n",
       "6659                           1  \n",
       "\n",
       "[95 rows x 138 columns]"
      ],
      "text/html": "<div>\n<style scoped>\n    .dataframe tbody tr th:only-of-type {\n        vertical-align: middle;\n    }\n\n    .dataframe tbody tr th {\n        vertical-align: top;\n    }\n\n    .dataframe thead th {\n        text-align: right;\n    }\n</style>\n<table border=\"1\" class=\"dataframe\">\n  <thead>\n    <tr style=\"text-align: right;\">\n      <th></th>\n      <th>Date</th>\n      <th>RentIndex</th>\n      <th>t-1</th>\n      <th>t-1Diff</th>\n      <th>t-2</th>\n      <th>t-2Diff</th>\n      <th>t-3</th>\n      <th>t-3Diff</th>\n      <th>t-4</th>\n      <th>t-4Diff</th>\n      <th>...</th>\n      <th>RegionName_Melbourne, FL</th>\n      <th>RegionName_Chattanooga, TN</th>\n      <th>RegionName_Spokane, WA</th>\n      <th>RegionName_Provo, UT</th>\n      <th>RegionName_Durham, NC</th>\n      <th>RegionName_Port St. Lucie, FL</th>\n      <th>RegionName_Fort Collins, CO</th>\n      <th>RegionName_Boulder, CO</th>\n      <th>RegionName_Greeley, CO</th>\n      <th>RegionName_Gainesville, GA</th>\n    </tr>\n  </thead>\n  <tbody>\n    <tr>\n      <th>65</th>\n      <td>2020-06-30</td>\n      <td>3.248299</td>\n      <td>3.293601</td>\n      <td>-2.531479</td>\n      <td>3.331751</td>\n      <td>-4.283860</td>\n      <td>3.365132</td>\n      <td>-5.817192</td>\n      <td>3.322213</td>\n      <td>-3.845765</td>\n      <td>...</td>\n      <td>0</td>\n      <td>0</td>\n      <td>0</td>\n      <td>0</td>\n      <td>0</td>\n      <td>0</td>\n      <td>0</td>\n      <td>0</td>\n      <td>0</td>\n      <td>0</td>\n    </tr>\n    <tr>\n      <th>131</th>\n      <td>2020-06-30</td>\n      <td>2.945488</td>\n      <td>2.931182</td>\n      <td>0.206615</td>\n      <td>2.976484</td>\n      <td>-1.874337</td>\n      <td>3.028940</td>\n      <td>-4.283860</td>\n      <td>3.028940</td>\n      <td>-4.283860</td>\n      <td>...</td>\n      <td>0</td>\n      <td>0</td>\n      <td>0</td>\n      <td>0</td>\n      <td>0</td>\n      <td>0</td>\n      <td>0</td>\n      <td>0</td>\n      <td>0</td>\n      <td>0</td>\n    </tr>\n    <tr>\n      <th>197</th>\n      <td>2020-06-30</td>\n      <td>0.770970</td>\n      <td>0.770970</td>\n      <td>-0.450528</td>\n      <td>0.770970</td>\n      <td>-0.450528</td>\n      <td>0.778123</td>\n      <td>-0.779099</td>\n      <td>0.756664</td>\n      <td>0.206615</td>\n      <td>...</td>\n      <td>0</td>\n      <td>0</td>\n      <td>0</td>\n      <td>0</td>\n      <td>0</td>\n      <td>0</td>\n      <td>0</td>\n      <td>0</td>\n      <td>0</td>\n      <td>0</td>\n    </tr>\n    <tr>\n      <th>263</th>\n      <td>2020-06-30</td>\n      <td>0.565917</td>\n      <td>0.553995</td>\n      <td>0.097091</td>\n      <td>0.565917</td>\n      <td>-0.450528</td>\n      <td>0.580223</td>\n      <td>-1.107670</td>\n      <td>0.570685</td>\n      <td>-0.669575</td>\n      <td>...</td>\n      <td>0</td>\n      <td>0</td>\n      <td>0</td>\n      <td>0</td>\n      <td>0</td>\n      <td>0</td>\n      <td>0</td>\n      <td>0</td>\n      <td>0</td>\n      <td>0</td>\n    </tr>\n    <tr>\n      <th>329</th>\n      <td>2020-06-30</td>\n      <td>0.520614</td>\n      <td>0.522998</td>\n      <td>-0.560051</td>\n      <td>0.532536</td>\n      <td>-0.998146</td>\n      <td>0.530152</td>\n      <td>-0.888623</td>\n      <td>0.506308</td>\n      <td>0.206615</td>\n      <td>...</td>\n      <td>0</td>\n      <td>0</td>\n      <td>0</td>\n      <td>0</td>\n      <td>0</td>\n      <td>0</td>\n      <td>0</td>\n      <td>0</td>\n      <td>0</td>\n      <td>0</td>\n    </tr>\n    <tr>\n      <th>...</th>\n      <td>...</td>\n      <td>...</td>\n      <td>...</td>\n      <td>...</td>\n      <td>...</td>\n      <td>...</td>\n      <td>...</td>\n      <td>...</td>\n      <td>...</td>\n      <td>...</td>\n      <td>...</td>\n      <td>...</td>\n      <td>...</td>\n      <td>...</td>\n      <td>...</td>\n      <td>...</td>\n      <td>...</td>\n      <td>...</td>\n      <td>...</td>\n      <td>...</td>\n      <td>...</td>\n    </tr>\n    <tr>\n      <th>6395</th>\n      <td>2020-06-30</td>\n      <td>0.894956</td>\n      <td>0.964101</td>\n      <td>-3.626717</td>\n      <td>0.801966</td>\n      <td>3.820900</td>\n      <td>0.909262</td>\n      <td>-1.107670</td>\n      <td>0.902109</td>\n      <td>-0.779099</td>\n      <td>...</td>\n      <td>0</td>\n      <td>0</td>\n      <td>0</td>\n      <td>0</td>\n      <td>0</td>\n      <td>1</td>\n      <td>0</td>\n      <td>0</td>\n      <td>0</td>\n      <td>0</td>\n    </tr>\n    <tr>\n      <th>6461</th>\n      <td>2020-06-30</td>\n      <td>0.508692</td>\n      <td>0.456237</td>\n      <td>1.958996</td>\n      <td>0.458621</td>\n      <td>1.849472</td>\n      <td>0.446700</td>\n      <td>2.397091</td>\n      <td>0.394244</td>\n      <td>4.806614</td>\n      <td>...</td>\n      <td>0</td>\n      <td>0</td>\n      <td>0</td>\n      <td>0</td>\n      <td>0</td>\n      <td>0</td>\n      <td>1</td>\n      <td>0</td>\n      <td>0</td>\n      <td>0</td>\n    </tr>\n    <tr>\n      <th>6527</th>\n      <td>2020-06-30</td>\n      <td>1.696094</td>\n      <td>1.703247</td>\n      <td>-0.779099</td>\n      <td>1.679403</td>\n      <td>0.316139</td>\n      <td>1.727090</td>\n      <td>-1.874337</td>\n      <td>1.727090</td>\n      <td>-1.874337</td>\n      <td>...</td>\n      <td>0</td>\n      <td>0</td>\n      <td>0</td>\n      <td>0</td>\n      <td>0</td>\n      <td>0</td>\n      <td>0</td>\n      <td>1</td>\n      <td>0</td>\n      <td>0</td>\n    </tr>\n    <tr>\n      <th>6593</th>\n      <td>2020-06-30</td>\n      <td>0.601682</td>\n      <td>0.606450</td>\n      <td>-0.669575</td>\n      <td>0.592144</td>\n      <td>-0.012432</td>\n      <td>0.632678</td>\n      <td>-1.874337</td>\n      <td>0.613603</td>\n      <td>-0.998146</td>\n      <td>...</td>\n      <td>0</td>\n      <td>0</td>\n      <td>0</td>\n      <td>0</td>\n      <td>0</td>\n      <td>0</td>\n      <td>0</td>\n      <td>0</td>\n      <td>1</td>\n      <td>0</td>\n    </tr>\n    <tr>\n      <th>6659</th>\n      <td>2020-06-30</td>\n      <td>-0.034937</td>\n      <td>-0.042090</td>\n      <td>-0.121956</td>\n      <td>-0.013478</td>\n      <td>-1.436241</td>\n      <td>-0.013478</td>\n      <td>-1.436241</td>\n      <td>0.012750</td>\n      <td>-2.641003</td>\n      <td>...</td>\n      <td>0</td>\n      <td>0</td>\n      <td>0</td>\n      <td>0</td>\n      <td>0</td>\n      <td>0</td>\n      <td>0</td>\n      <td>0</td>\n      <td>0</td>\n      <td>1</td>\n    </tr>\n  </tbody>\n</table>\n<p>95 rows × 138 columns</p>\n</div>"
     },
     "metadata": {},
     "execution_count": 414
    }
   ],
   "source": [
    "last"
   ]
  },
  {
   "cell_type": "code",
   "execution_count": 416,
   "id": "cultural-friendly",
   "metadata": {},
   "outputs": [
    {
     "output_type": "error",
     "ename": "KeyError",
     "evalue": "\"['Date' 'RegionName'] not found in axis\"",
     "traceback": [
      "\u001b[0;31m---------------------------------------------------------------------------\u001b[0m",
      "\u001b[0;31mKeyError\u001b[0m                                  Traceback (most recent call last)",
      "\u001b[0;32m<ipython-input-416-5a54df3fe759>\u001b[0m in \u001b[0;36m<module>\u001b[0;34m\u001b[0m\n\u001b[1;32m      1\u001b[0m \u001b[0mmodel\u001b[0m\u001b[0;34m.\u001b[0m\u001b[0mfit\u001b[0m\u001b[0;34m(\u001b[0m\u001b[0mall_x\u001b[0m\u001b[0;34m.\u001b[0m\u001b[0mdrop\u001b[0m\u001b[0;34m(\u001b[0m\u001b[0;34m[\u001b[0m\u001b[0;34m'Date'\u001b[0m\u001b[0;34m,\u001b[0m \u001b[0;34m'RegionName'\u001b[0m\u001b[0;34m]\u001b[0m\u001b[0;34m,\u001b[0m\u001b[0;36m1\u001b[0m\u001b[0;34m)\u001b[0m\u001b[0;34m,\u001b[0m \u001b[0mall_y\u001b[0m\u001b[0;34m)\u001b[0m\u001b[0;34m\u001b[0m\u001b[0;34m\u001b[0m\u001b[0m\n\u001b[0;32m----> 2\u001b[0;31m \u001b[0mpred\u001b[0m \u001b[0;34m=\u001b[0m \u001b[0mmodel\u001b[0m\u001b[0;34m.\u001b[0m\u001b[0mpredict\u001b[0m\u001b[0;34m(\u001b[0m\u001b[0mlast_x\u001b[0m\u001b[0;34m.\u001b[0m\u001b[0mdrop\u001b[0m\u001b[0;34m(\u001b[0m\u001b[0;34m[\u001b[0m\u001b[0;34m'Date'\u001b[0m\u001b[0;34m,\u001b[0m \u001b[0;34m'RegionName'\u001b[0m\u001b[0;34m]\u001b[0m\u001b[0;34m)\u001b[0m\u001b[0;34m)\u001b[0m\u001b[0;34m\u001b[0m\u001b[0;34m\u001b[0m\u001b[0m\n\u001b[0m",
      "\u001b[0;32m~/lambda/labs/labspt15-cityspire-g-ds/.venv/lib/python3.8/site-packages/pandas/core/frame.py\u001b[0m in \u001b[0;36mdrop\u001b[0;34m(self, labels, axis, index, columns, level, inplace, errors)\u001b[0m\n\u001b[1;32m   4303\u001b[0m                 \u001b[0mweight\u001b[0m  \u001b[0;36m1.0\u001b[0m     \u001b[0;36m0.8\u001b[0m\u001b[0;34m\u001b[0m\u001b[0;34m\u001b[0m\u001b[0m\n\u001b[1;32m   4304\u001b[0m         \"\"\"\n\u001b[0;32m-> 4305\u001b[0;31m         return super().drop(\n\u001b[0m\u001b[1;32m   4306\u001b[0m             \u001b[0mlabels\u001b[0m\u001b[0;34m=\u001b[0m\u001b[0mlabels\u001b[0m\u001b[0;34m,\u001b[0m\u001b[0;34m\u001b[0m\u001b[0;34m\u001b[0m\u001b[0m\n\u001b[1;32m   4307\u001b[0m             \u001b[0maxis\u001b[0m\u001b[0;34m=\u001b[0m\u001b[0maxis\u001b[0m\u001b[0;34m,\u001b[0m\u001b[0;34m\u001b[0m\u001b[0;34m\u001b[0m\u001b[0m\n",
      "\u001b[0;32m~/lambda/labs/labspt15-cityspire-g-ds/.venv/lib/python3.8/site-packages/pandas/core/generic.py\u001b[0m in \u001b[0;36mdrop\u001b[0;34m(self, labels, axis, index, columns, level, inplace, errors)\u001b[0m\n\u001b[1;32m   4150\u001b[0m         \u001b[0;32mfor\u001b[0m \u001b[0maxis\u001b[0m\u001b[0;34m,\u001b[0m \u001b[0mlabels\u001b[0m \u001b[0;32min\u001b[0m \u001b[0maxes\u001b[0m\u001b[0;34m.\u001b[0m\u001b[0mitems\u001b[0m\u001b[0;34m(\u001b[0m\u001b[0;34m)\u001b[0m\u001b[0;34m:\u001b[0m\u001b[0;34m\u001b[0m\u001b[0;34m\u001b[0m\u001b[0m\n\u001b[1;32m   4151\u001b[0m             \u001b[0;32mif\u001b[0m \u001b[0mlabels\u001b[0m \u001b[0;32mis\u001b[0m \u001b[0;32mnot\u001b[0m \u001b[0;32mNone\u001b[0m\u001b[0;34m:\u001b[0m\u001b[0;34m\u001b[0m\u001b[0;34m\u001b[0m\u001b[0m\n\u001b[0;32m-> 4152\u001b[0;31m                 \u001b[0mobj\u001b[0m \u001b[0;34m=\u001b[0m \u001b[0mobj\u001b[0m\u001b[0;34m.\u001b[0m\u001b[0m_drop_axis\u001b[0m\u001b[0;34m(\u001b[0m\u001b[0mlabels\u001b[0m\u001b[0;34m,\u001b[0m \u001b[0maxis\u001b[0m\u001b[0;34m,\u001b[0m \u001b[0mlevel\u001b[0m\u001b[0;34m=\u001b[0m\u001b[0mlevel\u001b[0m\u001b[0;34m,\u001b[0m \u001b[0merrors\u001b[0m\u001b[0;34m=\u001b[0m\u001b[0merrors\u001b[0m\u001b[0;34m)\u001b[0m\u001b[0;34m\u001b[0m\u001b[0;34m\u001b[0m\u001b[0m\n\u001b[0m\u001b[1;32m   4153\u001b[0m \u001b[0;34m\u001b[0m\u001b[0m\n\u001b[1;32m   4154\u001b[0m         \u001b[0;32mif\u001b[0m \u001b[0minplace\u001b[0m\u001b[0;34m:\u001b[0m\u001b[0;34m\u001b[0m\u001b[0;34m\u001b[0m\u001b[0m\n",
      "\u001b[0;32m~/lambda/labs/labspt15-cityspire-g-ds/.venv/lib/python3.8/site-packages/pandas/core/generic.py\u001b[0m in \u001b[0;36m_drop_axis\u001b[0;34m(self, labels, axis, level, errors)\u001b[0m\n\u001b[1;32m   4185\u001b[0m                 \u001b[0mnew_axis\u001b[0m \u001b[0;34m=\u001b[0m \u001b[0maxis\u001b[0m\u001b[0;34m.\u001b[0m\u001b[0mdrop\u001b[0m\u001b[0;34m(\u001b[0m\u001b[0mlabels\u001b[0m\u001b[0;34m,\u001b[0m \u001b[0mlevel\u001b[0m\u001b[0;34m=\u001b[0m\u001b[0mlevel\u001b[0m\u001b[0;34m,\u001b[0m \u001b[0merrors\u001b[0m\u001b[0;34m=\u001b[0m\u001b[0merrors\u001b[0m\u001b[0;34m)\u001b[0m\u001b[0;34m\u001b[0m\u001b[0;34m\u001b[0m\u001b[0m\n\u001b[1;32m   4186\u001b[0m             \u001b[0;32melse\u001b[0m\u001b[0;34m:\u001b[0m\u001b[0;34m\u001b[0m\u001b[0;34m\u001b[0m\u001b[0m\n\u001b[0;32m-> 4187\u001b[0;31m                 \u001b[0mnew_axis\u001b[0m \u001b[0;34m=\u001b[0m \u001b[0maxis\u001b[0m\u001b[0;34m.\u001b[0m\u001b[0mdrop\u001b[0m\u001b[0;34m(\u001b[0m\u001b[0mlabels\u001b[0m\u001b[0;34m,\u001b[0m \u001b[0merrors\u001b[0m\u001b[0;34m=\u001b[0m\u001b[0merrors\u001b[0m\u001b[0;34m)\u001b[0m\u001b[0;34m\u001b[0m\u001b[0;34m\u001b[0m\u001b[0m\n\u001b[0m\u001b[1;32m   4188\u001b[0m             \u001b[0mresult\u001b[0m \u001b[0;34m=\u001b[0m \u001b[0mself\u001b[0m\u001b[0;34m.\u001b[0m\u001b[0mreindex\u001b[0m\u001b[0;34m(\u001b[0m\u001b[0;34m**\u001b[0m\u001b[0;34m{\u001b[0m\u001b[0maxis_name\u001b[0m\u001b[0;34m:\u001b[0m \u001b[0mnew_axis\u001b[0m\u001b[0;34m}\u001b[0m\u001b[0;34m)\u001b[0m\u001b[0;34m\u001b[0m\u001b[0;34m\u001b[0m\u001b[0m\n\u001b[1;32m   4189\u001b[0m \u001b[0;34m\u001b[0m\u001b[0m\n",
      "\u001b[0;32m~/lambda/labs/labspt15-cityspire-g-ds/.venv/lib/python3.8/site-packages/pandas/core/indexes/base.py\u001b[0m in \u001b[0;36mdrop\u001b[0;34m(self, labels, errors)\u001b[0m\n\u001b[1;32m   5589\u001b[0m         \u001b[0;32mif\u001b[0m \u001b[0mmask\u001b[0m\u001b[0;34m.\u001b[0m\u001b[0many\u001b[0m\u001b[0;34m(\u001b[0m\u001b[0;34m)\u001b[0m\u001b[0;34m:\u001b[0m\u001b[0;34m\u001b[0m\u001b[0;34m\u001b[0m\u001b[0m\n\u001b[1;32m   5590\u001b[0m             \u001b[0;32mif\u001b[0m \u001b[0merrors\u001b[0m \u001b[0;34m!=\u001b[0m \u001b[0;34m\"ignore\"\u001b[0m\u001b[0;34m:\u001b[0m\u001b[0;34m\u001b[0m\u001b[0;34m\u001b[0m\u001b[0m\n\u001b[0;32m-> 5591\u001b[0;31m                 \u001b[0;32mraise\u001b[0m \u001b[0mKeyError\u001b[0m\u001b[0;34m(\u001b[0m\u001b[0;34mf\"{labels[mask]} not found in axis\"\u001b[0m\u001b[0;34m)\u001b[0m\u001b[0;34m\u001b[0m\u001b[0;34m\u001b[0m\u001b[0m\n\u001b[0m\u001b[1;32m   5592\u001b[0m             \u001b[0mindexer\u001b[0m \u001b[0;34m=\u001b[0m \u001b[0mindexer\u001b[0m\u001b[0;34m[\u001b[0m\u001b[0;34m~\u001b[0m\u001b[0mmask\u001b[0m\u001b[0;34m]\u001b[0m\u001b[0;34m\u001b[0m\u001b[0;34m\u001b[0m\u001b[0m\n\u001b[1;32m   5593\u001b[0m         \u001b[0;32mreturn\u001b[0m \u001b[0mself\u001b[0m\u001b[0;34m.\u001b[0m\u001b[0mdelete\u001b[0m\u001b[0;34m(\u001b[0m\u001b[0mindexer\u001b[0m\u001b[0;34m)\u001b[0m\u001b[0;34m\u001b[0m\u001b[0;34m\u001b[0m\u001b[0m\n",
      "\u001b[0;31mKeyError\u001b[0m: \"['Date' 'RegionName'] not found in axis\""
     ]
    }
   ],
   "source": [
    "model.fit(all_x.drop(['Date', 'RegionName'],1), all_y)\n",
    "pred = model.predict(last_x.drop(['Date', 'RegionName']))"
   ]
  },
  {
   "cell_type": "code",
   "execution_count": null,
   "id": "logical-blind",
   "metadata": {},
   "outputs": [],
   "source": [
    "ny_proj = pd.DataFrame(scaler.inverse_transform(pred)).iloc[0,:]"
   ]
  },
  {
   "cell_type": "code",
   "execution_count": null,
   "metadata": {},
   "outputs": [],
   "source": [
    "ny_val = pd.DataFrame(scaler.inverse_transform(last_y)).iloc[0,:]"
   ]
  },
  {
   "cell_type": "code",
   "execution_count": null,
   "metadata": {},
   "outputs": [],
   "source": [
    "data= pd.DataFrame([ny_val, ny_proj ], index=['Actual','Projected'])"
   ]
  },
  {
   "cell_type": "code",
   "execution_count": null,
   "metadata": {},
   "outputs": [],
   "source": [
    "prior_data = pd.DataFrame(scaler.inverse_transform(last_x.loc[65][['t-12', 't-11','t-10','t-9','t-8','t-7','t-6','t-5','t-6','t-5','t-4','t-3','t-2','t-1','RentIndex']]))"
   ]
  },
  {
   "cell_type": "code",
   "execution_count": 421,
   "metadata": {},
   "outputs": [],
   "source": [
    "prior_data['Projected'] = np.nan"
   ]
  },
  {
   "cell_type": "code",
   "execution_count": 422,
   "metadata": {},
   "outputs": [],
   "source": [
    "prior_data=prior_data.rename({0:'Actual'},axis=1)"
   ]
  },
  {
   "cell_type": "code",
   "execution_count": 423,
   "metadata": {},
   "outputs": [
    {
     "output_type": "execute_result",
     "data": {
      "text/plain": [
       "    Actual  Projected\n",
       "15  2673.0   2723.701\n",
       "16  2607.0   2717.384\n",
       "17  2556.0   2700.683\n",
       "18  2501.0   2666.010\n",
       "19  2479.0   2631.242\n",
       "20  2469.0   2590.838"
      ],
      "text/html": "<div>\n<style scoped>\n    .dataframe tbody tr th:only-of-type {\n        vertical-align: middle;\n    }\n\n    .dataframe tbody tr th {\n        vertical-align: top;\n    }\n\n    .dataframe thead th {\n        text-align: right;\n    }\n</style>\n<table border=\"1\" class=\"dataframe\">\n  <thead>\n    <tr style=\"text-align: right;\">\n      <th></th>\n      <th>Actual</th>\n      <th>Projected</th>\n    </tr>\n  </thead>\n  <tbody>\n    <tr>\n      <th>15</th>\n      <td>2673.0</td>\n      <td>2723.701</td>\n    </tr>\n    <tr>\n      <th>16</th>\n      <td>2607.0</td>\n      <td>2717.384</td>\n    </tr>\n    <tr>\n      <th>17</th>\n      <td>2556.0</td>\n      <td>2700.683</td>\n    </tr>\n    <tr>\n      <th>18</th>\n      <td>2501.0</td>\n      <td>2666.010</td>\n    </tr>\n    <tr>\n      <th>19</th>\n      <td>2479.0</td>\n      <td>2631.242</td>\n    </tr>\n    <tr>\n      <th>20</th>\n      <td>2469.0</td>\n      <td>2590.838</td>\n    </tr>\n  </tbody>\n</table>\n</div>"
     },
     "metadata": {},
     "execution_count": 423
    }
   ],
   "source": [
    "data.T.set_index(pd.Index([i+15 for i in range(6)]))"
   ]
  },
  {
   "cell_type": "code",
   "execution_count": 424,
   "metadata": {},
   "outputs": [],
   "source": [
    "combined_data = pd.concat([prior_data,data.T.set_index(pd.Index([i+15 for i in range(6)]))])"
   ]
  },
  {
   "cell_type": "code",
   "execution_count": 425,
   "metadata": {},
   "outputs": [
    {
     "output_type": "execute_result",
     "data": {
      "text/plain": [
       "    index   variable     value\n",
       "0       0     Actual    2734.0\n",
       "1       1     Actual    2743.0\n",
       "2       2     Actual    2745.0\n",
       "3       3     Actual    2736.0\n",
       "4       4     Actual    2736.0\n",
       "5       5     Actual    2716.0\n",
       "6       6     Actual    2705.0\n",
       "7       7     Actual    2711.0\n",
       "8       8     Actual    2705.0\n",
       "9       9     Actual    2711.0\n",
       "10     10     Actual    2737.0\n",
       "11     11     Actual    2755.0\n",
       "12     12     Actual    2741.0\n",
       "13     13     Actual    2725.0\n",
       "14     14     Actual    2706.0\n",
       "15     15     Actual    2673.0\n",
       "16     16     Actual    2607.0\n",
       "17     17     Actual    2556.0\n",
       "18     18     Actual    2501.0\n",
       "19     19     Actual    2479.0\n",
       "20     20     Actual    2469.0\n",
       "21      0  Projected       NaN\n",
       "22      1  Projected       NaN\n",
       "23      2  Projected       NaN\n",
       "24      3  Projected       NaN\n",
       "25      4  Projected       NaN\n",
       "26      5  Projected       NaN\n",
       "27      6  Projected       NaN\n",
       "28      7  Projected       NaN\n",
       "29      8  Projected       NaN\n",
       "30      9  Projected       NaN\n",
       "31     10  Projected       NaN\n",
       "32     11  Projected       NaN\n",
       "33     12  Projected       NaN\n",
       "34     13  Projected       NaN\n",
       "35     14  Projected       NaN\n",
       "36     15  Projected  2723.701\n",
       "37     16  Projected  2717.384\n",
       "38     17  Projected  2700.683\n",
       "39     18  Projected   2666.01\n",
       "40     19  Projected  2631.242\n",
       "41     20  Projected  2590.838"
      ],
      "text/html": "<div>\n<style scoped>\n    .dataframe tbody tr th:only-of-type {\n        vertical-align: middle;\n    }\n\n    .dataframe tbody tr th {\n        vertical-align: top;\n    }\n\n    .dataframe thead th {\n        text-align: right;\n    }\n</style>\n<table border=\"1\" class=\"dataframe\">\n  <thead>\n    <tr style=\"text-align: right;\">\n      <th></th>\n      <th>index</th>\n      <th>variable</th>\n      <th>value</th>\n    </tr>\n  </thead>\n  <tbody>\n    <tr>\n      <th>0</th>\n      <td>0</td>\n      <td>Actual</td>\n      <td>2734.0</td>\n    </tr>\n    <tr>\n      <th>1</th>\n      <td>1</td>\n      <td>Actual</td>\n      <td>2743.0</td>\n    </tr>\n    <tr>\n      <th>2</th>\n      <td>2</td>\n      <td>Actual</td>\n      <td>2745.0</td>\n    </tr>\n    <tr>\n      <th>3</th>\n      <td>3</td>\n      <td>Actual</td>\n      <td>2736.0</td>\n    </tr>\n    <tr>\n      <th>4</th>\n      <td>4</td>\n      <td>Actual</td>\n      <td>2736.0</td>\n    </tr>\n    <tr>\n      <th>5</th>\n      <td>5</td>\n      <td>Actual</td>\n      <td>2716.0</td>\n    </tr>\n    <tr>\n      <th>6</th>\n      <td>6</td>\n      <td>Actual</td>\n      <td>2705.0</td>\n    </tr>\n    <tr>\n      <th>7</th>\n      <td>7</td>\n      <td>Actual</td>\n      <td>2711.0</td>\n    </tr>\n    <tr>\n      <th>8</th>\n      <td>8</td>\n      <td>Actual</td>\n      <td>2705.0</td>\n    </tr>\n    <tr>\n      <th>9</th>\n      <td>9</td>\n      <td>Actual</td>\n      <td>2711.0</td>\n    </tr>\n    <tr>\n      <th>10</th>\n      <td>10</td>\n      <td>Actual</td>\n      <td>2737.0</td>\n    </tr>\n    <tr>\n      <th>11</th>\n      <td>11</td>\n      <td>Actual</td>\n      <td>2755.0</td>\n    </tr>\n    <tr>\n      <th>12</th>\n      <td>12</td>\n      <td>Actual</td>\n      <td>2741.0</td>\n    </tr>\n    <tr>\n      <th>13</th>\n      <td>13</td>\n      <td>Actual</td>\n      <td>2725.0</td>\n    </tr>\n    <tr>\n      <th>14</th>\n      <td>14</td>\n      <td>Actual</td>\n      <td>2706.0</td>\n    </tr>\n    <tr>\n      <th>15</th>\n      <td>15</td>\n      <td>Actual</td>\n      <td>2673.0</td>\n    </tr>\n    <tr>\n      <th>16</th>\n      <td>16</td>\n      <td>Actual</td>\n      <td>2607.0</td>\n    </tr>\n    <tr>\n      <th>17</th>\n      <td>17</td>\n      <td>Actual</td>\n      <td>2556.0</td>\n    </tr>\n    <tr>\n      <th>18</th>\n      <td>18</td>\n      <td>Actual</td>\n      <td>2501.0</td>\n    </tr>\n    <tr>\n      <th>19</th>\n      <td>19</td>\n      <td>Actual</td>\n      <td>2479.0</td>\n    </tr>\n    <tr>\n      <th>20</th>\n      <td>20</td>\n      <td>Actual</td>\n      <td>2469.0</td>\n    </tr>\n    <tr>\n      <th>21</th>\n      <td>0</td>\n      <td>Projected</td>\n      <td>NaN</td>\n    </tr>\n    <tr>\n      <th>22</th>\n      <td>1</td>\n      <td>Projected</td>\n      <td>NaN</td>\n    </tr>\n    <tr>\n      <th>23</th>\n      <td>2</td>\n      <td>Projected</td>\n      <td>NaN</td>\n    </tr>\n    <tr>\n      <th>24</th>\n      <td>3</td>\n      <td>Projected</td>\n      <td>NaN</td>\n    </tr>\n    <tr>\n      <th>25</th>\n      <td>4</td>\n      <td>Projected</td>\n      <td>NaN</td>\n    </tr>\n    <tr>\n      <th>26</th>\n      <td>5</td>\n      <td>Projected</td>\n      <td>NaN</td>\n    </tr>\n    <tr>\n      <th>27</th>\n      <td>6</td>\n      <td>Projected</td>\n      <td>NaN</td>\n    </tr>\n    <tr>\n      <th>28</th>\n      <td>7</td>\n      <td>Projected</td>\n      <td>NaN</td>\n    </tr>\n    <tr>\n      <th>29</th>\n      <td>8</td>\n      <td>Projected</td>\n      <td>NaN</td>\n    </tr>\n    <tr>\n      <th>30</th>\n      <td>9</td>\n      <td>Projected</td>\n      <td>NaN</td>\n    </tr>\n    <tr>\n      <th>31</th>\n      <td>10</td>\n      <td>Projected</td>\n      <td>NaN</td>\n    </tr>\n    <tr>\n      <th>32</th>\n      <td>11</td>\n      <td>Projected</td>\n      <td>NaN</td>\n    </tr>\n    <tr>\n      <th>33</th>\n      <td>12</td>\n      <td>Projected</td>\n      <td>NaN</td>\n    </tr>\n    <tr>\n      <th>34</th>\n      <td>13</td>\n      <td>Projected</td>\n      <td>NaN</td>\n    </tr>\n    <tr>\n      <th>35</th>\n      <td>14</td>\n      <td>Projected</td>\n      <td>NaN</td>\n    </tr>\n    <tr>\n      <th>36</th>\n      <td>15</td>\n      <td>Projected</td>\n      <td>2723.701</td>\n    </tr>\n    <tr>\n      <th>37</th>\n      <td>16</td>\n      <td>Projected</td>\n      <td>2717.384</td>\n    </tr>\n    <tr>\n      <th>38</th>\n      <td>17</td>\n      <td>Projected</td>\n      <td>2700.683</td>\n    </tr>\n    <tr>\n      <th>39</th>\n      <td>18</td>\n      <td>Projected</td>\n      <td>2666.01</td>\n    </tr>\n    <tr>\n      <th>40</th>\n      <td>19</td>\n      <td>Projected</td>\n      <td>2631.242</td>\n    </tr>\n    <tr>\n      <th>41</th>\n      <td>20</td>\n      <td>Projected</td>\n      <td>2590.838</td>\n    </tr>\n  </tbody>\n</table>\n</div>"
     },
     "metadata": {},
     "execution_count": 425
    }
   ],
   "source": [
    "melted = combined_data.reset_index().melt(id_vars='index')\n",
    "melted"
   ]
  },
  {
   "cell_type": "code",
   "execution_count": 426,
   "metadata": {},
   "outputs": [],
   "source": [
    "from plotly import express as px"
   ]
  },
  {
   "cell_type": "code",
   "execution_count": 427,
   "metadata": {},
   "outputs": [
    {
     "output_type": "display_data",
     "data": {
      "application/vnd.plotly.v1+json": {
       "config": {
        "plotlyServerURL": "https://plot.ly"
       },
       "data": [
        {
         "hovertemplate": "variable=Actual<br>index=%{x}<br>value=%{y}<extra></extra>",
         "legendgroup": "Actual",
         "line": {
          "color": "#636efa",
          "dash": "solid"
         },
         "mode": "lines",
         "name": "Actual",
         "orientation": "h",
         "showlegend": true,
         "type": "scatter",
         "x": [
          0,
          1,
          2,
          3,
          4,
          5,
          6,
          7,
          8,
          9,
          10,
          11,
          12,
          13,
          14,
          15,
          16,
          17,
          18,
          19,
          20
         ],
         "xaxis": "x",
         "y": [
          2734,
          2743,
          2745,
          2736,
          2736,
          2716,
          2705,
          2711,
          2705,
          2711,
          2737,
          2755,
          2741,
          2725,
          2706,
          2673,
          2607,
          2556,
          2501,
          2479,
          2469
         ],
         "yaxis": "y"
        },
        {
         "hovertemplate": "variable=Projected<br>index=%{x}<br>value=%{y}<extra></extra>",
         "legendgroup": "Projected",
         "line": {
          "color": "#EF553B",
          "dash": "solid"
         },
         "mode": "lines",
         "name": "Projected",
         "orientation": "h",
         "showlegend": true,
         "type": "scatter",
         "x": [
          0,
          1,
          2,
          3,
          4,
          5,
          6,
          7,
          8,
          9,
          10,
          11,
          12,
          13,
          14,
          15,
          16,
          17,
          18,
          19,
          20
         ],
         "xaxis": "x",
         "y": [
          null,
          null,
          null,
          null,
          null,
          null,
          null,
          null,
          null,
          null,
          null,
          null,
          null,
          null,
          null,
          2723.7009999999873,
          2717.3839999999823,
          2700.682999999982,
          2666.00999999999,
          2631.2419999999865,
          2590.837999999988
         ],
         "yaxis": "y"
        }
       ],
       "layout": {
        "legend": {
         "title": {
          "text": "variable"
         },
         "tracegroupgap": 0
        },
        "margin": {
         "t": 60
        },
        "template": {
         "data": {
          "bar": [
           {
            "error_x": {
             "color": "#2a3f5f"
            },
            "error_y": {
             "color": "#2a3f5f"
            },
            "marker": {
             "line": {
              "color": "#E5ECF6",
              "width": 0.5
             }
            },
            "type": "bar"
           }
          ],
          "barpolar": [
           {
            "marker": {
             "line": {
              "color": "#E5ECF6",
              "width": 0.5
             }
            },
            "type": "barpolar"
           }
          ],
          "carpet": [
           {
            "aaxis": {
             "endlinecolor": "#2a3f5f",
             "gridcolor": "white",
             "linecolor": "white",
             "minorgridcolor": "white",
             "startlinecolor": "#2a3f5f"
            },
            "baxis": {
             "endlinecolor": "#2a3f5f",
             "gridcolor": "white",
             "linecolor": "white",
             "minorgridcolor": "white",
             "startlinecolor": "#2a3f5f"
            },
            "type": "carpet"
           }
          ],
          "choropleth": [
           {
            "colorbar": {
             "outlinewidth": 0,
             "ticks": ""
            },
            "type": "choropleth"
           }
          ],
          "contour": [
           {
            "colorbar": {
             "outlinewidth": 0,
             "ticks": ""
            },
            "colorscale": [
             [
              0,
              "#0d0887"
             ],
             [
              0.1111111111111111,
              "#46039f"
             ],
             [
              0.2222222222222222,
              "#7201a8"
             ],
             [
              0.3333333333333333,
              "#9c179e"
             ],
             [
              0.4444444444444444,
              "#bd3786"
             ],
             [
              0.5555555555555556,
              "#d8576b"
             ],
             [
              0.6666666666666666,
              "#ed7953"
             ],
             [
              0.7777777777777778,
              "#fb9f3a"
             ],
             [
              0.8888888888888888,
              "#fdca26"
             ],
             [
              1,
              "#f0f921"
             ]
            ],
            "type": "contour"
           }
          ],
          "contourcarpet": [
           {
            "colorbar": {
             "outlinewidth": 0,
             "ticks": ""
            },
            "type": "contourcarpet"
           }
          ],
          "heatmap": [
           {
            "colorbar": {
             "outlinewidth": 0,
             "ticks": ""
            },
            "colorscale": [
             [
              0,
              "#0d0887"
             ],
             [
              0.1111111111111111,
              "#46039f"
             ],
             [
              0.2222222222222222,
              "#7201a8"
             ],
             [
              0.3333333333333333,
              "#9c179e"
             ],
             [
              0.4444444444444444,
              "#bd3786"
             ],
             [
              0.5555555555555556,
              "#d8576b"
             ],
             [
              0.6666666666666666,
              "#ed7953"
             ],
             [
              0.7777777777777778,
              "#fb9f3a"
             ],
             [
              0.8888888888888888,
              "#fdca26"
             ],
             [
              1,
              "#f0f921"
             ]
            ],
            "type": "heatmap"
           }
          ],
          "heatmapgl": [
           {
            "colorbar": {
             "outlinewidth": 0,
             "ticks": ""
            },
            "colorscale": [
             [
              0,
              "#0d0887"
             ],
             [
              0.1111111111111111,
              "#46039f"
             ],
             [
              0.2222222222222222,
              "#7201a8"
             ],
             [
              0.3333333333333333,
              "#9c179e"
             ],
             [
              0.4444444444444444,
              "#bd3786"
             ],
             [
              0.5555555555555556,
              "#d8576b"
             ],
             [
              0.6666666666666666,
              "#ed7953"
             ],
             [
              0.7777777777777778,
              "#fb9f3a"
             ],
             [
              0.8888888888888888,
              "#fdca26"
             ],
             [
              1,
              "#f0f921"
             ]
            ],
            "type": "heatmapgl"
           }
          ],
          "histogram": [
           {
            "marker": {
             "colorbar": {
              "outlinewidth": 0,
              "ticks": ""
             }
            },
            "type": "histogram"
           }
          ],
          "histogram2d": [
           {
            "colorbar": {
             "outlinewidth": 0,
             "ticks": ""
            },
            "colorscale": [
             [
              0,
              "#0d0887"
             ],
             [
              0.1111111111111111,
              "#46039f"
             ],
             [
              0.2222222222222222,
              "#7201a8"
             ],
             [
              0.3333333333333333,
              "#9c179e"
             ],
             [
              0.4444444444444444,
              "#bd3786"
             ],
             [
              0.5555555555555556,
              "#d8576b"
             ],
             [
              0.6666666666666666,
              "#ed7953"
             ],
             [
              0.7777777777777778,
              "#fb9f3a"
             ],
             [
              0.8888888888888888,
              "#fdca26"
             ],
             [
              1,
              "#f0f921"
             ]
            ],
            "type": "histogram2d"
           }
          ],
          "histogram2dcontour": [
           {
            "colorbar": {
             "outlinewidth": 0,
             "ticks": ""
            },
            "colorscale": [
             [
              0,
              "#0d0887"
             ],
             [
              0.1111111111111111,
              "#46039f"
             ],
             [
              0.2222222222222222,
              "#7201a8"
             ],
             [
              0.3333333333333333,
              "#9c179e"
             ],
             [
              0.4444444444444444,
              "#bd3786"
             ],
             [
              0.5555555555555556,
              "#d8576b"
             ],
             [
              0.6666666666666666,
              "#ed7953"
             ],
             [
              0.7777777777777778,
              "#fb9f3a"
             ],
             [
              0.8888888888888888,
              "#fdca26"
             ],
             [
              1,
              "#f0f921"
             ]
            ],
            "type": "histogram2dcontour"
           }
          ],
          "mesh3d": [
           {
            "colorbar": {
             "outlinewidth": 0,
             "ticks": ""
            },
            "type": "mesh3d"
           }
          ],
          "parcoords": [
           {
            "line": {
             "colorbar": {
              "outlinewidth": 0,
              "ticks": ""
             }
            },
            "type": "parcoords"
           }
          ],
          "pie": [
           {
            "automargin": true,
            "type": "pie"
           }
          ],
          "scatter": [
           {
            "marker": {
             "colorbar": {
              "outlinewidth": 0,
              "ticks": ""
             }
            },
            "type": "scatter"
           }
          ],
          "scatter3d": [
           {
            "line": {
             "colorbar": {
              "outlinewidth": 0,
              "ticks": ""
             }
            },
            "marker": {
             "colorbar": {
              "outlinewidth": 0,
              "ticks": ""
             }
            },
            "type": "scatter3d"
           }
          ],
          "scattercarpet": [
           {
            "marker": {
             "colorbar": {
              "outlinewidth": 0,
              "ticks": ""
             }
            },
            "type": "scattercarpet"
           }
          ],
          "scattergeo": [
           {
            "marker": {
             "colorbar": {
              "outlinewidth": 0,
              "ticks": ""
             }
            },
            "type": "scattergeo"
           }
          ],
          "scattergl": [
           {
            "marker": {
             "colorbar": {
              "outlinewidth": 0,
              "ticks": ""
             }
            },
            "type": "scattergl"
           }
          ],
          "scattermapbox": [
           {
            "marker": {
             "colorbar": {
              "outlinewidth": 0,
              "ticks": ""
             }
            },
            "type": "scattermapbox"
           }
          ],
          "scatterpolar": [
           {
            "marker": {
             "colorbar": {
              "outlinewidth": 0,
              "ticks": ""
             }
            },
            "type": "scatterpolar"
           }
          ],
          "scatterpolargl": [
           {
            "marker": {
             "colorbar": {
              "outlinewidth": 0,
              "ticks": ""
             }
            },
            "type": "scatterpolargl"
           }
          ],
          "scatterternary": [
           {
            "marker": {
             "colorbar": {
              "outlinewidth": 0,
              "ticks": ""
             }
            },
            "type": "scatterternary"
           }
          ],
          "surface": [
           {
            "colorbar": {
             "outlinewidth": 0,
             "ticks": ""
            },
            "colorscale": [
             [
              0,
              "#0d0887"
             ],
             [
              0.1111111111111111,
              "#46039f"
             ],
             [
              0.2222222222222222,
              "#7201a8"
             ],
             [
              0.3333333333333333,
              "#9c179e"
             ],
             [
              0.4444444444444444,
              "#bd3786"
             ],
             [
              0.5555555555555556,
              "#d8576b"
             ],
             [
              0.6666666666666666,
              "#ed7953"
             ],
             [
              0.7777777777777778,
              "#fb9f3a"
             ],
             [
              0.8888888888888888,
              "#fdca26"
             ],
             [
              1,
              "#f0f921"
             ]
            ],
            "type": "surface"
           }
          ],
          "table": [
           {
            "cells": {
             "fill": {
              "color": "#EBF0F8"
             },
             "line": {
              "color": "white"
             }
            },
            "header": {
             "fill": {
              "color": "#C8D4E3"
             },
             "line": {
              "color": "white"
             }
            },
            "type": "table"
           }
          ]
         },
         "layout": {
          "annotationdefaults": {
           "arrowcolor": "#2a3f5f",
           "arrowhead": 0,
           "arrowwidth": 1
          },
          "autotypenumbers": "strict",
          "coloraxis": {
           "colorbar": {
            "outlinewidth": 0,
            "ticks": ""
           }
          },
          "colorscale": {
           "diverging": [
            [
             0,
             "#8e0152"
            ],
            [
             0.1,
             "#c51b7d"
            ],
            [
             0.2,
             "#de77ae"
            ],
            [
             0.3,
             "#f1b6da"
            ],
            [
             0.4,
             "#fde0ef"
            ],
            [
             0.5,
             "#f7f7f7"
            ],
            [
             0.6,
             "#e6f5d0"
            ],
            [
             0.7,
             "#b8e186"
            ],
            [
             0.8,
             "#7fbc41"
            ],
            [
             0.9,
             "#4d9221"
            ],
            [
             1,
             "#276419"
            ]
           ],
           "sequential": [
            [
             0,
             "#0d0887"
            ],
            [
             0.1111111111111111,
             "#46039f"
            ],
            [
             0.2222222222222222,
             "#7201a8"
            ],
            [
             0.3333333333333333,
             "#9c179e"
            ],
            [
             0.4444444444444444,
             "#bd3786"
            ],
            [
             0.5555555555555556,
             "#d8576b"
            ],
            [
             0.6666666666666666,
             "#ed7953"
            ],
            [
             0.7777777777777778,
             "#fb9f3a"
            ],
            [
             0.8888888888888888,
             "#fdca26"
            ],
            [
             1,
             "#f0f921"
            ]
           ],
           "sequentialminus": [
            [
             0,
             "#0d0887"
            ],
            [
             0.1111111111111111,
             "#46039f"
            ],
            [
             0.2222222222222222,
             "#7201a8"
            ],
            [
             0.3333333333333333,
             "#9c179e"
            ],
            [
             0.4444444444444444,
             "#bd3786"
            ],
            [
             0.5555555555555556,
             "#d8576b"
            ],
            [
             0.6666666666666666,
             "#ed7953"
            ],
            [
             0.7777777777777778,
             "#fb9f3a"
            ],
            [
             0.8888888888888888,
             "#fdca26"
            ],
            [
             1,
             "#f0f921"
            ]
           ]
          },
          "colorway": [
           "#636efa",
           "#EF553B",
           "#00cc96",
           "#ab63fa",
           "#FFA15A",
           "#19d3f3",
           "#FF6692",
           "#B6E880",
           "#FF97FF",
           "#FECB52"
          ],
          "font": {
           "color": "#2a3f5f"
          },
          "geo": {
           "bgcolor": "white",
           "lakecolor": "white",
           "landcolor": "#E5ECF6",
           "showlakes": true,
           "showland": true,
           "subunitcolor": "white"
          },
          "hoverlabel": {
           "align": "left"
          },
          "hovermode": "closest",
          "mapbox": {
           "style": "light"
          },
          "paper_bgcolor": "white",
          "plot_bgcolor": "#E5ECF6",
          "polar": {
           "angularaxis": {
            "gridcolor": "white",
            "linecolor": "white",
            "ticks": ""
           },
           "bgcolor": "#E5ECF6",
           "radialaxis": {
            "gridcolor": "white",
            "linecolor": "white",
            "ticks": ""
           }
          },
          "scene": {
           "xaxis": {
            "backgroundcolor": "#E5ECF6",
            "gridcolor": "white",
            "gridwidth": 2,
            "linecolor": "white",
            "showbackground": true,
            "ticks": "",
            "zerolinecolor": "white"
           },
           "yaxis": {
            "backgroundcolor": "#E5ECF6",
            "gridcolor": "white",
            "gridwidth": 2,
            "linecolor": "white",
            "showbackground": true,
            "ticks": "",
            "zerolinecolor": "white"
           },
           "zaxis": {
            "backgroundcolor": "#E5ECF6",
            "gridcolor": "white",
            "gridwidth": 2,
            "linecolor": "white",
            "showbackground": true,
            "ticks": "",
            "zerolinecolor": "white"
           }
          },
          "shapedefaults": {
           "line": {
            "color": "#2a3f5f"
           }
          },
          "ternary": {
           "aaxis": {
            "gridcolor": "white",
            "linecolor": "white",
            "ticks": ""
           },
           "baxis": {
            "gridcolor": "white",
            "linecolor": "white",
            "ticks": ""
           },
           "bgcolor": "#E5ECF6",
           "caxis": {
            "gridcolor": "white",
            "linecolor": "white",
            "ticks": ""
           }
          },
          "title": {
           "x": 0.05
          },
          "xaxis": {
           "automargin": true,
           "gridcolor": "white",
           "linecolor": "white",
           "ticks": "",
           "title": {
            "standoff": 15
           },
           "zerolinecolor": "white",
           "zerolinewidth": 2
          },
          "yaxis": {
           "automargin": true,
           "gridcolor": "white",
           "linecolor": "white",
           "ticks": "",
           "title": {
            "standoff": 15
           },
           "zerolinecolor": "white",
           "zerolinewidth": 2
          }
         }
        },
        "xaxis": {
         "anchor": "y",
         "domain": [
          0,
          1
         ],
         "title": {
          "text": "index"
         }
        },
        "yaxis": {
         "anchor": "x",
         "domain": [
          0,
          1
         ],
         "title": {
          "text": "value"
         }
        }
       }
      }
     },
     "metadata": {}
    }
   ],
   "source": [
    "px.line(melted, x = 'index', y = 'value', color='variable')"
   ]
  },
  {
   "cell_type": "code",
   "execution_count": 240,
   "metadata": {},
   "outputs": [],
   "source": [
    "cities= pd.DataFrame(all_x['RegionName'].unique())"
   ]
  },
  {
   "cell_type": "code",
   "execution_count": 242,
   "metadata": {},
   "outputs": [],
   "source": [
    "cities.to_csv(\"cities.csv\")"
   ]
  },
  {
   "cell_type": "code",
   "execution_count": 271,
   "metadata": {},
   "outputs": [
    {
     "output_type": "execute_result",
     "data": {
      "text/plain": [
       "                 0   1\n",
       "47      Birmingham  AL\n",
       "71     Little Rock  AR\n",
       "51          Tucson  AZ\n",
       "13         Phoenix  AZ\n",
       "72        Stockton  CA\n",
       "..             ...  ..\n",
       "35  Virginia Beach  VA\n",
       "93         Spokane  WA\n",
       "14         Seattle  WA\n",
       "37       Milwaukee  WI\n",
       "82         Madison  WI\n",
       "\n",
       "[101 rows x 2 columns]"
      ],
      "text/html": "<div>\n<style scoped>\n    .dataframe tbody tr th:only-of-type {\n        vertical-align: middle;\n    }\n\n    .dataframe tbody tr th {\n        vertical-align: top;\n    }\n\n    .dataframe thead th {\n        text-align: right;\n    }\n</style>\n<table border=\"1\" class=\"dataframe\">\n  <thead>\n    <tr style=\"text-align: right;\">\n      <th></th>\n      <th>0</th>\n      <th>1</th>\n    </tr>\n  </thead>\n  <tbody>\n    <tr>\n      <th>47</th>\n      <td>Birmingham</td>\n      <td>AL</td>\n    </tr>\n    <tr>\n      <th>71</th>\n      <td>Little Rock</td>\n      <td>AR</td>\n    </tr>\n    <tr>\n      <th>51</th>\n      <td>Tucson</td>\n      <td>AZ</td>\n    </tr>\n    <tr>\n      <th>13</th>\n      <td>Phoenix</td>\n      <td>AZ</td>\n    </tr>\n    <tr>\n      <th>72</th>\n      <td>Stockton</td>\n      <td>CA</td>\n    </tr>\n    <tr>\n      <th>...</th>\n      <td>...</td>\n      <td>...</td>\n    </tr>\n    <tr>\n      <th>35</th>\n      <td>Virginia Beach</td>\n      <td>VA</td>\n    </tr>\n    <tr>\n      <th>93</th>\n      <td>Spokane</td>\n      <td>WA</td>\n    </tr>\n    <tr>\n      <th>14</th>\n      <td>Seattle</td>\n      <td>WA</td>\n    </tr>\n    <tr>\n      <th>37</th>\n      <td>Milwaukee</td>\n      <td>WI</td>\n    </tr>\n    <tr>\n      <th>82</th>\n      <td>Madison</td>\n      <td>WI</td>\n    </tr>\n  </tbody>\n</table>\n<p>101 rows × 2 columns</p>\n</div>"
     },
     "metadata": {},
     "execution_count": 271
    }
   ],
   "source": [
    "cities[0].str.split(', ',expand=True).sort_values(1)"
   ]
  },
  {
   "cell_type": "code",
   "execution_count": 287,
   "metadata": {},
   "outputs": [],
   "source": [
    "pd.DataFrame(cities[0].str.split(', ',expand=True)[1].unique()).to_csv('states.csv')"
   ]
  },
  {
   "cell_type": "code",
   "execution_count": null,
   "metadata": {},
   "outputs": [],
   "source": []
  }
 ],
 "metadata": {
  "kernelspec": {
   "display_name": "Python 3",
   "language": "python",
   "name": "python3"
  },
  "language_info": {
   "codemirror_mode": {
    "name": "ipython",
    "version": 3
   },
   "file_extension": ".py",
   "mimetype": "text/x-python",
   "name": "python",
   "nbconvert_exporter": "python",
   "pygments_lexer": "ipython3",
   "version": "3.8.7-final"
  }
 },
 "nbformat": 4,
 "nbformat_minor": 5
}